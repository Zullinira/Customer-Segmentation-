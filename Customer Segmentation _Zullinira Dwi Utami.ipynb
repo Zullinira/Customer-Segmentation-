{
  "nbformat": 4,
  "nbformat_minor": 0,
  "metadata": {
    "colab": {
      "name": "Zullinira Dwi Utami _ Final Project Script.ipynb",
      "provenance": [],
      "collapsed_sections": [
        "ZK3sedPogS-_",
        "X_lWDhSvTraw",
        "WGRXHEIa3hMk"
      ]
    },
    "kernelspec": {
      "name": "python3",
      "display_name": "Python 3"
    },
    "language_info": {
      "name": "python"
    }
  },
  "cells": [
    {
      "cell_type": "markdown",
      "metadata": {
        "id": "V_QE82p5f9oL"
      },
      "source": [
        "Name : Zullinira Dwi Utami\n",
        "\n",
        "Email : zullinira23@gmail.com"
      ]
    },
    {
      "cell_type": "markdown",
      "metadata": {
        "id": "uoqSkgvMgKZi"
      },
      "source": [
        "## **Final Project**"
      ]
    },
    {
      "cell_type": "markdown",
      "metadata": {
        "id": "gwWecDtz0pOY"
      },
      "source": [
        "customer segmentation using RFM Analysis K-Means Clustering"
      ]
    },
    {
      "cell_type": "markdown",
      "metadata": {
        "id": "MQ9JCZjr0r-6"
      },
      "source": [
        "The Business Question :\n",
        "1. What are top 10 selling products ?\n",
        "2. How is the distribution of customers by country?\n",
        "3. How many products are sold each month?\n",
        "4. How is the segmentation of online retail customers? And define more royal customers !\n",
        "5. Give recommendations to increase sales based on waht has been done before !"
      ]
    },
    {
      "cell_type": "markdown",
      "metadata": {
        "id": "ZK3sedPogS-_"
      },
      "source": [
        "## Data Preparation"
      ]
    },
    {
      "cell_type": "code",
      "metadata": {
        "id": "YNeH_oGB0bhI"
      },
      "source": [
        "#import library\n",
        "import pandas as pd\n",
        "import numpy as np\n",
        "\n",
        "import datetime as dt"
      ],
      "execution_count": null,
      "outputs": []
    },
    {
      "cell_type": "code",
      "metadata": {
        "id": "0T1hXsboSVA0"
      },
      "source": [
        "# import visualization\n",
        "import matplotlib.pyplot as plt\n",
        "import seaborn as sns\n",
        "import missingno as msno\n",
        "import plotly.express as px"
      ],
      "execution_count": null,
      "outputs": []
    },
    {
      "cell_type": "code",
      "metadata": {
        "id": "-04Vlttn-k6f"
      },
      "source": [
        "from sklearn.preprocessing import StandardScaler"
      ],
      "execution_count": null,
      "outputs": []
    },
    {
      "cell_type": "code",
      "metadata": {
        "colab": {
          "base_uri": "https://localhost:8080/"
        },
        "id": "RtKG-4bBXZ8j",
        "outputId": "21c53044-d93e-44eb-c160-222c45bf1a1c"
      },
      "source": [
        "from google.colab import drive\n",
        "drive.mount('/content/drive')"
      ],
      "execution_count": null,
      "outputs": [
        {
          "output_type": "stream",
          "name": "stdout",
          "text": [
            "Drive already mounted at /content/drive; to attempt to forcibly remount, call drive.mount(\"/content/drive\", force_remount=True).\n"
          ]
        }
      ]
    },
    {
      "cell_type": "code",
      "metadata": {
        "id": "8QGSpztq0bru"
      },
      "source": [
        "#import dataset\n",
        "data = pd.read_excel('/content/drive/MyDrive/Dibimbing/Final Project/Online Retail.xlsx')"
      ],
      "execution_count": null,
      "outputs": []
    },
    {
      "cell_type": "code",
      "metadata": {
        "colab": {
          "base_uri": "https://localhost:8080/"
        },
        "id": "TkYVtFco0vMZ",
        "outputId": "eaa10025-bf41-4524-f7c2-639782ea6d12"
      },
      "source": [
        "data.head()"
      ],
      "execution_count": null,
      "outputs": [
        {
          "output_type": "execute_result",
          "data": {
            "text/html": [
              "<div>\n",
              "<style scoped>\n",
              "    .dataframe tbody tr th:only-of-type {\n",
              "        vertical-align: middle;\n",
              "    }\n",
              "\n",
              "    .dataframe tbody tr th {\n",
              "        vertical-align: top;\n",
              "    }\n",
              "\n",
              "    .dataframe thead th {\n",
              "        text-align: right;\n",
              "    }\n",
              "</style>\n",
              "<table border=\"1\" class=\"dataframe\">\n",
              "  <thead>\n",
              "    <tr style=\"text-align: right;\">\n",
              "      <th></th>\n",
              "      <th>InvoiceNo</th>\n",
              "      <th>StockCode</th>\n",
              "      <th>Description</th>\n",
              "      <th>Quantity</th>\n",
              "      <th>InvoiceDate</th>\n",
              "      <th>UnitPrice</th>\n",
              "      <th>CustomerID</th>\n",
              "      <th>Country</th>\n",
              "    </tr>\n",
              "  </thead>\n",
              "  <tbody>\n",
              "    <tr>\n",
              "      <th>0</th>\n",
              "      <td>536365</td>\n",
              "      <td>85123A</td>\n",
              "      <td>WHITE HANGING HEART T-LIGHT HOLDER</td>\n",
              "      <td>6</td>\n",
              "      <td>2010-12-01 08:26:00</td>\n",
              "      <td>2.55</td>\n",
              "      <td>17850.0</td>\n",
              "      <td>United Kingdom</td>\n",
              "    </tr>\n",
              "    <tr>\n",
              "      <th>1</th>\n",
              "      <td>536365</td>\n",
              "      <td>71053</td>\n",
              "      <td>WHITE METAL LANTERN</td>\n",
              "      <td>6</td>\n",
              "      <td>2010-12-01 08:26:00</td>\n",
              "      <td>3.39</td>\n",
              "      <td>17850.0</td>\n",
              "      <td>United Kingdom</td>\n",
              "    </tr>\n",
              "    <tr>\n",
              "      <th>2</th>\n",
              "      <td>536365</td>\n",
              "      <td>84406B</td>\n",
              "      <td>CREAM CUPID HEARTS COAT HANGER</td>\n",
              "      <td>8</td>\n",
              "      <td>2010-12-01 08:26:00</td>\n",
              "      <td>2.75</td>\n",
              "      <td>17850.0</td>\n",
              "      <td>United Kingdom</td>\n",
              "    </tr>\n",
              "    <tr>\n",
              "      <th>3</th>\n",
              "      <td>536365</td>\n",
              "      <td>84029G</td>\n",
              "      <td>KNITTED UNION FLAG HOT WATER BOTTLE</td>\n",
              "      <td>6</td>\n",
              "      <td>2010-12-01 08:26:00</td>\n",
              "      <td>3.39</td>\n",
              "      <td>17850.0</td>\n",
              "      <td>United Kingdom</td>\n",
              "    </tr>\n",
              "    <tr>\n",
              "      <th>4</th>\n",
              "      <td>536365</td>\n",
              "      <td>84029E</td>\n",
              "      <td>RED WOOLLY HOTTIE WHITE HEART.</td>\n",
              "      <td>6</td>\n",
              "      <td>2010-12-01 08:26:00</td>\n",
              "      <td>3.39</td>\n",
              "      <td>17850.0</td>\n",
              "      <td>United Kingdom</td>\n",
              "    </tr>\n",
              "  </tbody>\n",
              "</table>\n",
              "</div>"
            ],
            "text/plain": [
              "  InvoiceNo StockCode  ... CustomerID         Country\n",
              "0    536365    85123A  ...    17850.0  United Kingdom\n",
              "1    536365     71053  ...    17850.0  United Kingdom\n",
              "2    536365    84406B  ...    17850.0  United Kingdom\n",
              "3    536365    84029G  ...    17850.0  United Kingdom\n",
              "4    536365    84029E  ...    17850.0  United Kingdom\n",
              "\n",
              "[5 rows x 8 columns]"
            ]
          },
          "metadata": {},
          "execution_count": 12
        }
      ]
    },
    {
      "cell_type": "markdown",
      "metadata": {
        "id": "E4nc8qQgYmX1"
      },
      "source": [
        "Attribute Information\n",
        "\n",
        "InvoiceNo: Invoice number. Nominal, a 6-digit integral number uniquely assigned to each transaction. If this code starts with letter 'c', it indicates a cancellation.\n",
        "\n",
        "StockCode: Product (item) code. Nominal, a 5-digit integral number uniquely assigned to each distinct product.\n",
        "\n",
        "Description: Product (item) name. Nominal.\n",
        "\n",
        "Quantity: The quantities of each product (item) per transaction. Numeric.\n",
        "\n",
        "InvoiceDate: Invoice Date and time. Numeric, the day and time when each transaction was generated.\n",
        "\n",
        "UnitPrice: Unit price. Numeric, Product price per unit in sterling.\n",
        "\n",
        "CustomerID: Customer number. Nominal, a 5-digit integral number uniquely assigned to each customer.\n",
        "\n",
        "Country: Country name. Nominal, the name of the country where each customer resides."
      ]
    },
    {
      "cell_type": "markdown",
      "metadata": {
        "id": "X_lWDhSvTraw"
      },
      "source": [
        "## Data Cleaning"
      ]
    },
    {
      "cell_type": "code",
      "metadata": {
        "colab": {
          "base_uri": "https://localhost:8080/"
        },
        "id": "tWrLJbM9bioR",
        "outputId": "9e7b7f8a-bba0-468a-b29d-d2a6a9b543cf"
      },
      "source": [
        "data.info()"
      ],
      "execution_count": null,
      "outputs": [
        {
          "output_type": "stream",
          "name": "stdout",
          "text": [
            "<class 'pandas.core.frame.DataFrame'>\n",
            "RangeIndex: 541909 entries, 0 to 541908\n",
            "Data columns (total 8 columns):\n",
            " #   Column       Non-Null Count   Dtype         \n",
            "---  ------       --------------   -----         \n",
            " 0   InvoiceNo    541909 non-null  object        \n",
            " 1   StockCode    541909 non-null  object        \n",
            " 2   Description  540455 non-null  object        \n",
            " 3   Quantity     541909 non-null  int64         \n",
            " 4   InvoiceDate  541909 non-null  datetime64[ns]\n",
            " 5   UnitPrice    541909 non-null  float64       \n",
            " 6   CustomerID   406829 non-null  float64       \n",
            " 7   Country      541909 non-null  object        \n",
            "dtypes: datetime64[ns](1), float64(2), int64(1), object(4)\n",
            "memory usage: 33.1+ MB\n"
          ]
        }
      ]
    },
    {
      "cell_type": "markdown",
      "metadata": {
        "id": "fxwN7yCtbloo"
      },
      "source": [
        "From the info, the table has 8 columns and 541,909 rows"
      ]
    },
    {
      "cell_type": "code",
      "metadata": {
        "colab": {
          "base_uri": "https://localhost:8080/"
        },
        "id": "aeBkY9UmI1c2",
        "outputId": "2e1a7689-a494-4756-868c-695242daa238"
      },
      "source": [
        "data.describe()"
      ],
      "execution_count": null,
      "outputs": [
        {
          "output_type": "execute_result",
          "data": {
            "text/html": [
              "<div>\n",
              "<style scoped>\n",
              "    .dataframe tbody tr th:only-of-type {\n",
              "        vertical-align: middle;\n",
              "    }\n",
              "\n",
              "    .dataframe tbody tr th {\n",
              "        vertical-align: top;\n",
              "    }\n",
              "\n",
              "    .dataframe thead th {\n",
              "        text-align: right;\n",
              "    }\n",
              "</style>\n",
              "<table border=\"1\" class=\"dataframe\">\n",
              "  <thead>\n",
              "    <tr style=\"text-align: right;\">\n",
              "      <th></th>\n",
              "      <th>Quantity</th>\n",
              "      <th>UnitPrice</th>\n",
              "      <th>CustomerID</th>\n",
              "    </tr>\n",
              "  </thead>\n",
              "  <tbody>\n",
              "    <tr>\n",
              "      <th>count</th>\n",
              "      <td>541909.000000</td>\n",
              "      <td>541909.000000</td>\n",
              "      <td>406829.000000</td>\n",
              "    </tr>\n",
              "    <tr>\n",
              "      <th>mean</th>\n",
              "      <td>9.552250</td>\n",
              "      <td>4.611114</td>\n",
              "      <td>15287.690570</td>\n",
              "    </tr>\n",
              "    <tr>\n",
              "      <th>std</th>\n",
              "      <td>218.081158</td>\n",
              "      <td>96.759853</td>\n",
              "      <td>1713.600303</td>\n",
              "    </tr>\n",
              "    <tr>\n",
              "      <th>min</th>\n",
              "      <td>-80995.000000</td>\n",
              "      <td>-11062.060000</td>\n",
              "      <td>12346.000000</td>\n",
              "    </tr>\n",
              "    <tr>\n",
              "      <th>25%</th>\n",
              "      <td>1.000000</td>\n",
              "      <td>1.250000</td>\n",
              "      <td>13953.000000</td>\n",
              "    </tr>\n",
              "    <tr>\n",
              "      <th>50%</th>\n",
              "      <td>3.000000</td>\n",
              "      <td>2.080000</td>\n",
              "      <td>15152.000000</td>\n",
              "    </tr>\n",
              "    <tr>\n",
              "      <th>75%</th>\n",
              "      <td>10.000000</td>\n",
              "      <td>4.130000</td>\n",
              "      <td>16791.000000</td>\n",
              "    </tr>\n",
              "    <tr>\n",
              "      <th>max</th>\n",
              "      <td>80995.000000</td>\n",
              "      <td>38970.000000</td>\n",
              "      <td>18287.000000</td>\n",
              "    </tr>\n",
              "  </tbody>\n",
              "</table>\n",
              "</div>"
            ],
            "text/plain": [
              "            Quantity      UnitPrice     CustomerID\n",
              "count  541909.000000  541909.000000  406829.000000\n",
              "mean        9.552250       4.611114   15287.690570\n",
              "std       218.081158      96.759853    1713.600303\n",
              "min    -80995.000000  -11062.060000   12346.000000\n",
              "25%         1.000000       1.250000   13953.000000\n",
              "50%         3.000000       2.080000   15152.000000\n",
              "75%        10.000000       4.130000   16791.000000\n",
              "max     80995.000000   38970.000000   18287.000000"
            ]
          },
          "metadata": {},
          "execution_count": 17
        }
      ]
    },
    {
      "cell_type": "markdown",
      "metadata": {
        "id": "mlzZ-yZJdgFO"
      },
      "source": [
        "*   Negative values in Quantity and Unit Price (min section) may represent canceled products. We will check !"
      ]
    },
    {
      "cell_type": "markdown",
      "metadata": {
        "id": "EvNZ1SpRe2eM"
      },
      "source": [
        "Check negative values"
      ]
    },
    {
      "cell_type": "code",
      "metadata": {
        "colab": {
          "base_uri": "https://localhost:8080/"
        },
        "id": "Kx188hsQdja8",
        "outputId": "676c0570-1363-46f2-cee6-8b64c22baeb7"
      },
      "source": [
        "#check negative values\n",
        "cancelled_orders = data[data['InvoiceNo'].astype(str).str.contains('C')]\n",
        "cancelled_orders.head()"
      ],
      "execution_count": null,
      "outputs": [
        {
          "output_type": "execute_result",
          "data": {
            "text/html": [
              "<div>\n",
              "<style scoped>\n",
              "    .dataframe tbody tr th:only-of-type {\n",
              "        vertical-align: middle;\n",
              "    }\n",
              "\n",
              "    .dataframe tbody tr th {\n",
              "        vertical-align: top;\n",
              "    }\n",
              "\n",
              "    .dataframe thead th {\n",
              "        text-align: right;\n",
              "    }\n",
              "</style>\n",
              "<table border=\"1\" class=\"dataframe\">\n",
              "  <thead>\n",
              "    <tr style=\"text-align: right;\">\n",
              "      <th></th>\n",
              "      <th>InvoiceNo</th>\n",
              "      <th>StockCode</th>\n",
              "      <th>Description</th>\n",
              "      <th>Quantity</th>\n",
              "      <th>InvoiceDate</th>\n",
              "      <th>UnitPrice</th>\n",
              "      <th>CustomerID</th>\n",
              "      <th>Country</th>\n",
              "    </tr>\n",
              "  </thead>\n",
              "  <tbody>\n",
              "    <tr>\n",
              "      <th>141</th>\n",
              "      <td>C536379</td>\n",
              "      <td>D</td>\n",
              "      <td>Discount</td>\n",
              "      <td>-1</td>\n",
              "      <td>2010-12-01 09:41:00</td>\n",
              "      <td>27.50</td>\n",
              "      <td>14527.0</td>\n",
              "      <td>United Kingdom</td>\n",
              "    </tr>\n",
              "    <tr>\n",
              "      <th>154</th>\n",
              "      <td>C536383</td>\n",
              "      <td>35004C</td>\n",
              "      <td>SET OF 3 COLOURED  FLYING DUCKS</td>\n",
              "      <td>-1</td>\n",
              "      <td>2010-12-01 09:49:00</td>\n",
              "      <td>4.65</td>\n",
              "      <td>15311.0</td>\n",
              "      <td>United Kingdom</td>\n",
              "    </tr>\n",
              "    <tr>\n",
              "      <th>235</th>\n",
              "      <td>C536391</td>\n",
              "      <td>22556</td>\n",
              "      <td>PLASTERS IN TIN CIRCUS PARADE</td>\n",
              "      <td>-12</td>\n",
              "      <td>2010-12-01 10:24:00</td>\n",
              "      <td>1.65</td>\n",
              "      <td>17548.0</td>\n",
              "      <td>United Kingdom</td>\n",
              "    </tr>\n",
              "    <tr>\n",
              "      <th>236</th>\n",
              "      <td>C536391</td>\n",
              "      <td>21984</td>\n",
              "      <td>PACK OF 12 PINK PAISLEY TISSUES</td>\n",
              "      <td>-24</td>\n",
              "      <td>2010-12-01 10:24:00</td>\n",
              "      <td>0.29</td>\n",
              "      <td>17548.0</td>\n",
              "      <td>United Kingdom</td>\n",
              "    </tr>\n",
              "    <tr>\n",
              "      <th>237</th>\n",
              "      <td>C536391</td>\n",
              "      <td>21983</td>\n",
              "      <td>PACK OF 12 BLUE PAISLEY TISSUES</td>\n",
              "      <td>-24</td>\n",
              "      <td>2010-12-01 10:24:00</td>\n",
              "      <td>0.29</td>\n",
              "      <td>17548.0</td>\n",
              "      <td>United Kingdom</td>\n",
              "    </tr>\n",
              "  </tbody>\n",
              "</table>\n",
              "</div>"
            ],
            "text/plain": [
              "    InvoiceNo StockCode  ... CustomerID         Country\n",
              "141   C536379         D  ...    14527.0  United Kingdom\n",
              "154   C536383    35004C  ...    15311.0  United Kingdom\n",
              "235   C536391     22556  ...    17548.0  United Kingdom\n",
              "236   C536391     21984  ...    17548.0  United Kingdom\n",
              "237   C536391     21983  ...    17548.0  United Kingdom\n",
              "\n",
              "[5 rows x 8 columns]"
            ]
          },
          "metadata": {},
          "execution_count": 18
        }
      ]
    },
    {
      "cell_type": "markdown",
      "metadata": {
        "id": "qE2yDZ1AOu46"
      },
      "source": [
        "\n",
        "\n",
        "*   Products that have been canceled should be removed from the analysis table because they do not include actual sales\n",
        "\n"
      ]
    },
    {
      "cell_type": "markdown",
      "metadata": {
        "id": "9E5JWQeE7nv-"
      },
      "source": [
        "The 'C' in the invoices shows the canceled transactions. Since we will not use the canceled transactions, we should remove them."
      ]
    },
    {
      "cell_type": "code",
      "metadata": {
        "colab": {
          "base_uri": "https://localhost:8080/"
        },
        "id": "D0ETVdSt4Tjb",
        "outputId": "acfed68f-0fb9-4a87-d99f-3f3dd013d775"
      },
      "source": [
        "#recency\n",
        "data = data[~data[\"InvoiceNo\"].str.contains(\"C\", na = False)]\n",
        "data"
      ],
      "execution_count": null,
      "outputs": [
        {
          "output_type": "execute_result",
          "data": {
            "text/html": [
              "<div>\n",
              "<style scoped>\n",
              "    .dataframe tbody tr th:only-of-type {\n",
              "        vertical-align: middle;\n",
              "    }\n",
              "\n",
              "    .dataframe tbody tr th {\n",
              "        vertical-align: top;\n",
              "    }\n",
              "\n",
              "    .dataframe thead th {\n",
              "        text-align: right;\n",
              "    }\n",
              "</style>\n",
              "<table border=\"1\" class=\"dataframe\">\n",
              "  <thead>\n",
              "    <tr style=\"text-align: right;\">\n",
              "      <th></th>\n",
              "      <th>InvoiceNo</th>\n",
              "      <th>StockCode</th>\n",
              "      <th>Description</th>\n",
              "      <th>Quantity</th>\n",
              "      <th>InvoiceDate</th>\n",
              "      <th>UnitPrice</th>\n",
              "      <th>CustomerID</th>\n",
              "      <th>Country</th>\n",
              "    </tr>\n",
              "  </thead>\n",
              "  <tbody>\n",
              "    <tr>\n",
              "      <th>0</th>\n",
              "      <td>536365</td>\n",
              "      <td>85123A</td>\n",
              "      <td>WHITE HANGING HEART T-LIGHT HOLDER</td>\n",
              "      <td>6</td>\n",
              "      <td>2010-12-01 08:26:00</td>\n",
              "      <td>2.55</td>\n",
              "      <td>17850.0</td>\n",
              "      <td>United Kingdom</td>\n",
              "    </tr>\n",
              "    <tr>\n",
              "      <th>1</th>\n",
              "      <td>536365</td>\n",
              "      <td>71053</td>\n",
              "      <td>WHITE METAL LANTERN</td>\n",
              "      <td>6</td>\n",
              "      <td>2010-12-01 08:26:00</td>\n",
              "      <td>3.39</td>\n",
              "      <td>17850.0</td>\n",
              "      <td>United Kingdom</td>\n",
              "    </tr>\n",
              "    <tr>\n",
              "      <th>2</th>\n",
              "      <td>536365</td>\n",
              "      <td>84406B</td>\n",
              "      <td>CREAM CUPID HEARTS COAT HANGER</td>\n",
              "      <td>8</td>\n",
              "      <td>2010-12-01 08:26:00</td>\n",
              "      <td>2.75</td>\n",
              "      <td>17850.0</td>\n",
              "      <td>United Kingdom</td>\n",
              "    </tr>\n",
              "    <tr>\n",
              "      <th>3</th>\n",
              "      <td>536365</td>\n",
              "      <td>84029G</td>\n",
              "      <td>KNITTED UNION FLAG HOT WATER BOTTLE</td>\n",
              "      <td>6</td>\n",
              "      <td>2010-12-01 08:26:00</td>\n",
              "      <td>3.39</td>\n",
              "      <td>17850.0</td>\n",
              "      <td>United Kingdom</td>\n",
              "    </tr>\n",
              "    <tr>\n",
              "      <th>4</th>\n",
              "      <td>536365</td>\n",
              "      <td>84029E</td>\n",
              "      <td>RED WOOLLY HOTTIE WHITE HEART.</td>\n",
              "      <td>6</td>\n",
              "      <td>2010-12-01 08:26:00</td>\n",
              "      <td>3.39</td>\n",
              "      <td>17850.0</td>\n",
              "      <td>United Kingdom</td>\n",
              "    </tr>\n",
              "    <tr>\n",
              "      <th>...</th>\n",
              "      <td>...</td>\n",
              "      <td>...</td>\n",
              "      <td>...</td>\n",
              "      <td>...</td>\n",
              "      <td>...</td>\n",
              "      <td>...</td>\n",
              "      <td>...</td>\n",
              "      <td>...</td>\n",
              "    </tr>\n",
              "    <tr>\n",
              "      <th>541904</th>\n",
              "      <td>581587</td>\n",
              "      <td>22613</td>\n",
              "      <td>PACK OF 20 SPACEBOY NAPKINS</td>\n",
              "      <td>12</td>\n",
              "      <td>2011-12-09 12:50:00</td>\n",
              "      <td>0.85</td>\n",
              "      <td>12680.0</td>\n",
              "      <td>France</td>\n",
              "    </tr>\n",
              "    <tr>\n",
              "      <th>541905</th>\n",
              "      <td>581587</td>\n",
              "      <td>22899</td>\n",
              "      <td>CHILDREN'S APRON DOLLY GIRL</td>\n",
              "      <td>6</td>\n",
              "      <td>2011-12-09 12:50:00</td>\n",
              "      <td>2.10</td>\n",
              "      <td>12680.0</td>\n",
              "      <td>France</td>\n",
              "    </tr>\n",
              "    <tr>\n",
              "      <th>541906</th>\n",
              "      <td>581587</td>\n",
              "      <td>23254</td>\n",
              "      <td>CHILDRENS CUTLERY DOLLY GIRL</td>\n",
              "      <td>4</td>\n",
              "      <td>2011-12-09 12:50:00</td>\n",
              "      <td>4.15</td>\n",
              "      <td>12680.0</td>\n",
              "      <td>France</td>\n",
              "    </tr>\n",
              "    <tr>\n",
              "      <th>541907</th>\n",
              "      <td>581587</td>\n",
              "      <td>23255</td>\n",
              "      <td>CHILDRENS CUTLERY CIRCUS PARADE</td>\n",
              "      <td>4</td>\n",
              "      <td>2011-12-09 12:50:00</td>\n",
              "      <td>4.15</td>\n",
              "      <td>12680.0</td>\n",
              "      <td>France</td>\n",
              "    </tr>\n",
              "    <tr>\n",
              "      <th>541908</th>\n",
              "      <td>581587</td>\n",
              "      <td>22138</td>\n",
              "      <td>BAKING SET 9 PIECE RETROSPOT</td>\n",
              "      <td>3</td>\n",
              "      <td>2011-12-09 12:50:00</td>\n",
              "      <td>4.95</td>\n",
              "      <td>12680.0</td>\n",
              "      <td>France</td>\n",
              "    </tr>\n",
              "  </tbody>\n",
              "</table>\n",
              "<p>532621 rows × 8 columns</p>\n",
              "</div>"
            ],
            "text/plain": [
              "       InvoiceNo StockCode  ... CustomerID         Country\n",
              "0         536365    85123A  ...    17850.0  United Kingdom\n",
              "1         536365     71053  ...    17850.0  United Kingdom\n",
              "2         536365    84406B  ...    17850.0  United Kingdom\n",
              "3         536365    84029G  ...    17850.0  United Kingdom\n",
              "4         536365    84029E  ...    17850.0  United Kingdom\n",
              "...          ...       ...  ...        ...             ...\n",
              "541904    581587     22613  ...    12680.0          France\n",
              "541905    581587     22899  ...    12680.0          France\n",
              "541906    581587     23254  ...    12680.0          France\n",
              "541907    581587     23255  ...    12680.0          France\n",
              "541908    581587     22138  ...    12680.0          France\n",
              "\n",
              "[532621 rows x 8 columns]"
            ]
          },
          "metadata": {},
          "execution_count": 19
        }
      ]
    },
    {
      "cell_type": "code",
      "metadata": {
        "colab": {
          "base_uri": "https://localhost:8080/"
        },
        "id": "DzDMkrhT1NYj",
        "outputId": "edd6fa28-10d3-443a-ddb0-891404caa600"
      },
      "source": [
        "data. shape"
      ],
      "execution_count": null,
      "outputs": [
        {
          "output_type": "execute_result",
          "data": {
            "text/plain": [
              "(532621, 8)"
            ]
          },
          "metadata": {},
          "execution_count": 20
        }
      ]
    },
    {
      "cell_type": "code",
      "metadata": {
        "colab": {
          "base_uri": "https://localhost:8080/"
        },
        "id": "zuGvniWjed6h",
        "outputId": "270e4bca-fbf3-41c2-db38-75e6ca9429ea"
      },
      "source": [
        "data.describe()"
      ],
      "execution_count": null,
      "outputs": [
        {
          "output_type": "execute_result",
          "data": {
            "text/html": [
              "<div>\n",
              "<style scoped>\n",
              "    .dataframe tbody tr th:only-of-type {\n",
              "        vertical-align: middle;\n",
              "    }\n",
              "\n",
              "    .dataframe tbody tr th {\n",
              "        vertical-align: top;\n",
              "    }\n",
              "\n",
              "    .dataframe thead th {\n",
              "        text-align: right;\n",
              "    }\n",
              "</style>\n",
              "<table border=\"1\" class=\"dataframe\">\n",
              "  <thead>\n",
              "    <tr style=\"text-align: right;\">\n",
              "      <th></th>\n",
              "      <th>Quantity</th>\n",
              "      <th>UnitPrice</th>\n",
              "      <th>CustomerID</th>\n",
              "    </tr>\n",
              "  </thead>\n",
              "  <tbody>\n",
              "    <tr>\n",
              "      <th>count</th>\n",
              "      <td>532621.000000</td>\n",
              "      <td>532621.000000</td>\n",
              "      <td>397924.000000</td>\n",
              "    </tr>\n",
              "    <tr>\n",
              "      <th>mean</th>\n",
              "      <td>10.239972</td>\n",
              "      <td>3.847621</td>\n",
              "      <td>15294.315171</td>\n",
              "    </tr>\n",
              "    <tr>\n",
              "      <th>std</th>\n",
              "      <td>159.593551</td>\n",
              "      <td>41.758023</td>\n",
              "      <td>1713.169877</td>\n",
              "    </tr>\n",
              "    <tr>\n",
              "      <th>min</th>\n",
              "      <td>-9600.000000</td>\n",
              "      <td>-11062.060000</td>\n",
              "      <td>12346.000000</td>\n",
              "    </tr>\n",
              "    <tr>\n",
              "      <th>25%</th>\n",
              "      <td>1.000000</td>\n",
              "      <td>1.250000</td>\n",
              "      <td>13969.000000</td>\n",
              "    </tr>\n",
              "    <tr>\n",
              "      <th>50%</th>\n",
              "      <td>3.000000</td>\n",
              "      <td>2.080000</td>\n",
              "      <td>15159.000000</td>\n",
              "    </tr>\n",
              "    <tr>\n",
              "      <th>75%</th>\n",
              "      <td>10.000000</td>\n",
              "      <td>4.130000</td>\n",
              "      <td>16795.000000</td>\n",
              "    </tr>\n",
              "    <tr>\n",
              "      <th>max</th>\n",
              "      <td>80995.000000</td>\n",
              "      <td>13541.330000</td>\n",
              "      <td>18287.000000</td>\n",
              "    </tr>\n",
              "  </tbody>\n",
              "</table>\n",
              "</div>"
            ],
            "text/plain": [
              "            Quantity      UnitPrice     CustomerID\n",
              "count  532621.000000  532621.000000  397924.000000\n",
              "mean       10.239972       3.847621   15294.315171\n",
              "std       159.593551      41.758023    1713.169877\n",
              "min     -9600.000000  -11062.060000   12346.000000\n",
              "25%         1.000000       1.250000   13969.000000\n",
              "50%         3.000000       2.080000   15159.000000\n",
              "75%        10.000000       4.130000   16795.000000\n",
              "max     80995.000000   13541.330000   18287.000000"
            ]
          },
          "metadata": {},
          "execution_count": 21
        }
      ]
    },
    {
      "cell_type": "markdown",
      "metadata": {
        "id": "m6wzm1S4enUU"
      },
      "source": [
        "data no longer has negative values"
      ]
    },
    {
      "cell_type": "markdown",
      "metadata": {
        "id": "QtbYzR9Re-xi"
      },
      "source": [
        "How many orders were cancelled?"
      ]
    },
    {
      "cell_type": "code",
      "metadata": {
        "colab": {
          "base_uri": "https://localhost:8080/"
        },
        "id": "7pmDmnEmfCgq",
        "outputId": "7c2b478b-8624-4cca-fad5-371b031f0f43"
      },
      "source": [
        "print(\"There were\", len(cancelled_orders), \"cancelled orders.\")\n",
        "\n",
        "total_orders = data['InvoiceNo'].nunique()\n",
        "number_cancelled = len(cancelled_orders)\n",
        "print('Percentage of orders cancelled: {:.2f}% '.format((number_cancelled / total_orders) * 100))"
      ],
      "execution_count": null,
      "outputs": [
        {
          "output_type": "stream",
          "name": "stdout",
          "text": [
            "There were 9288 cancelled orders.\n",
            "Percentage of orders cancelled: 42.10% \n"
          ]
        }
      ]
    },
    {
      "cell_type": "markdown",
      "metadata": {
        "id": "yxeIWm7_fk-t"
      },
      "source": [
        "check again if there are still negative values"
      ]
    },
    {
      "cell_type": "code",
      "metadata": {
        "colab": {
          "base_uri": "https://localhost:8080/"
        },
        "id": "wimFu-XzfPR_",
        "outputId": "b50b4216-15ca-4b30-b4b1-2bed0d8a022a"
      },
      "source": [
        "data[data['Quantity'] < 0]"
      ],
      "execution_count": null,
      "outputs": [
        {
          "output_type": "execute_result",
          "data": {
            "text/html": [
              "<div>\n",
              "<style scoped>\n",
              "    .dataframe tbody tr th:only-of-type {\n",
              "        vertical-align: middle;\n",
              "    }\n",
              "\n",
              "    .dataframe tbody tr th {\n",
              "        vertical-align: top;\n",
              "    }\n",
              "\n",
              "    .dataframe thead th {\n",
              "        text-align: right;\n",
              "    }\n",
              "</style>\n",
              "<table border=\"1\" class=\"dataframe\">\n",
              "  <thead>\n",
              "    <tr style=\"text-align: right;\">\n",
              "      <th></th>\n",
              "      <th>InvoiceNo</th>\n",
              "      <th>StockCode</th>\n",
              "      <th>Description</th>\n",
              "      <th>Quantity</th>\n",
              "      <th>InvoiceDate</th>\n",
              "      <th>UnitPrice</th>\n",
              "      <th>CustomerID</th>\n",
              "      <th>Country</th>\n",
              "    </tr>\n",
              "  </thead>\n",
              "  <tbody>\n",
              "    <tr>\n",
              "      <th>2406</th>\n",
              "      <td>536589</td>\n",
              "      <td>21777</td>\n",
              "      <td>NaN</td>\n",
              "      <td>-10</td>\n",
              "      <td>2010-12-01 16:50:00</td>\n",
              "      <td>0.0</td>\n",
              "      <td>NaN</td>\n",
              "      <td>United Kingdom</td>\n",
              "    </tr>\n",
              "    <tr>\n",
              "      <th>4347</th>\n",
              "      <td>536764</td>\n",
              "      <td>84952C</td>\n",
              "      <td>NaN</td>\n",
              "      <td>-38</td>\n",
              "      <td>2010-12-02 14:42:00</td>\n",
              "      <td>0.0</td>\n",
              "      <td>NaN</td>\n",
              "      <td>United Kingdom</td>\n",
              "    </tr>\n",
              "    <tr>\n",
              "      <th>7188</th>\n",
              "      <td>536996</td>\n",
              "      <td>22712</td>\n",
              "      <td>NaN</td>\n",
              "      <td>-20</td>\n",
              "      <td>2010-12-03 15:30:00</td>\n",
              "      <td>0.0</td>\n",
              "      <td>NaN</td>\n",
              "      <td>United Kingdom</td>\n",
              "    </tr>\n",
              "    <tr>\n",
              "      <th>7189</th>\n",
              "      <td>536997</td>\n",
              "      <td>22028</td>\n",
              "      <td>NaN</td>\n",
              "      <td>-20</td>\n",
              "      <td>2010-12-03 15:30:00</td>\n",
              "      <td>0.0</td>\n",
              "      <td>NaN</td>\n",
              "      <td>United Kingdom</td>\n",
              "    </tr>\n",
              "    <tr>\n",
              "      <th>7190</th>\n",
              "      <td>536998</td>\n",
              "      <td>85067</td>\n",
              "      <td>NaN</td>\n",
              "      <td>-6</td>\n",
              "      <td>2010-12-03 15:30:00</td>\n",
              "      <td>0.0</td>\n",
              "      <td>NaN</td>\n",
              "      <td>United Kingdom</td>\n",
              "    </tr>\n",
              "    <tr>\n",
              "      <th>...</th>\n",
              "      <td>...</td>\n",
              "      <td>...</td>\n",
              "      <td>...</td>\n",
              "      <td>...</td>\n",
              "      <td>...</td>\n",
              "      <td>...</td>\n",
              "      <td>...</td>\n",
              "      <td>...</td>\n",
              "    </tr>\n",
              "    <tr>\n",
              "      <th>535333</th>\n",
              "      <td>581210</td>\n",
              "      <td>23395</td>\n",
              "      <td>check</td>\n",
              "      <td>-26</td>\n",
              "      <td>2011-12-07 18:36:00</td>\n",
              "      <td>0.0</td>\n",
              "      <td>NaN</td>\n",
              "      <td>United Kingdom</td>\n",
              "    </tr>\n",
              "    <tr>\n",
              "      <th>535335</th>\n",
              "      <td>581212</td>\n",
              "      <td>22578</td>\n",
              "      <td>lost</td>\n",
              "      <td>-1050</td>\n",
              "      <td>2011-12-07 18:38:00</td>\n",
              "      <td>0.0</td>\n",
              "      <td>NaN</td>\n",
              "      <td>United Kingdom</td>\n",
              "    </tr>\n",
              "    <tr>\n",
              "      <th>535336</th>\n",
              "      <td>581213</td>\n",
              "      <td>22576</td>\n",
              "      <td>check</td>\n",
              "      <td>-30</td>\n",
              "      <td>2011-12-07 18:38:00</td>\n",
              "      <td>0.0</td>\n",
              "      <td>NaN</td>\n",
              "      <td>United Kingdom</td>\n",
              "    </tr>\n",
              "    <tr>\n",
              "      <th>536908</th>\n",
              "      <td>581226</td>\n",
              "      <td>23090</td>\n",
              "      <td>missing</td>\n",
              "      <td>-338</td>\n",
              "      <td>2011-12-08 09:56:00</td>\n",
              "      <td>0.0</td>\n",
              "      <td>NaN</td>\n",
              "      <td>United Kingdom</td>\n",
              "    </tr>\n",
              "    <tr>\n",
              "      <th>538919</th>\n",
              "      <td>581422</td>\n",
              "      <td>23169</td>\n",
              "      <td>smashed</td>\n",
              "      <td>-235</td>\n",
              "      <td>2011-12-08 15:24:00</td>\n",
              "      <td>0.0</td>\n",
              "      <td>NaN</td>\n",
              "      <td>United Kingdom</td>\n",
              "    </tr>\n",
              "  </tbody>\n",
              "</table>\n",
              "<p>1336 rows × 8 columns</p>\n",
              "</div>"
            ],
            "text/plain": [
              "       InvoiceNo StockCode Description  ...  UnitPrice CustomerID         Country\n",
              "2406      536589     21777         NaN  ...        0.0        NaN  United Kingdom\n",
              "4347      536764    84952C         NaN  ...        0.0        NaN  United Kingdom\n",
              "7188      536996     22712         NaN  ...        0.0        NaN  United Kingdom\n",
              "7189      536997     22028         NaN  ...        0.0        NaN  United Kingdom\n",
              "7190      536998     85067         NaN  ...        0.0        NaN  United Kingdom\n",
              "...          ...       ...         ...  ...        ...        ...             ...\n",
              "535333    581210     23395       check  ...        0.0        NaN  United Kingdom\n",
              "535335    581212     22578        lost  ...        0.0        NaN  United Kingdom\n",
              "535336    581213     22576       check  ...        0.0        NaN  United Kingdom\n",
              "536908    581226     23090     missing  ...        0.0        NaN  United Kingdom\n",
              "538919    581422     23169     smashed  ...        0.0        NaN  United Kingdom\n",
              "\n",
              "[1336 rows x 8 columns]"
            ]
          },
          "metadata": {},
          "execution_count": 23
        }
      ]
    },
    {
      "cell_type": "code",
      "metadata": {
        "colab": {
          "base_uri": "https://localhost:8080/"
        },
        "id": "Ion2PYAmfdap",
        "outputId": "7c3fda31-4920-406c-b75e-4bc01c217ca1"
      },
      "source": [
        "data[data['UnitPrice'] < 0]"
      ],
      "execution_count": null,
      "outputs": [
        {
          "output_type": "execute_result",
          "data": {
            "text/html": [
              "<div>\n",
              "<style scoped>\n",
              "    .dataframe tbody tr th:only-of-type {\n",
              "        vertical-align: middle;\n",
              "    }\n",
              "\n",
              "    .dataframe tbody tr th {\n",
              "        vertical-align: top;\n",
              "    }\n",
              "\n",
              "    .dataframe thead th {\n",
              "        text-align: right;\n",
              "    }\n",
              "</style>\n",
              "<table border=\"1\" class=\"dataframe\">\n",
              "  <thead>\n",
              "    <tr style=\"text-align: right;\">\n",
              "      <th></th>\n",
              "      <th>InvoiceNo</th>\n",
              "      <th>StockCode</th>\n",
              "      <th>Description</th>\n",
              "      <th>Quantity</th>\n",
              "      <th>InvoiceDate</th>\n",
              "      <th>UnitPrice</th>\n",
              "      <th>CustomerID</th>\n",
              "      <th>Country</th>\n",
              "    </tr>\n",
              "  </thead>\n",
              "  <tbody>\n",
              "    <tr>\n",
              "      <th>299983</th>\n",
              "      <td>A563186</td>\n",
              "      <td>B</td>\n",
              "      <td>Adjust bad debt</td>\n",
              "      <td>1</td>\n",
              "      <td>2011-08-12 14:51:00</td>\n",
              "      <td>-11062.06</td>\n",
              "      <td>NaN</td>\n",
              "      <td>United Kingdom</td>\n",
              "    </tr>\n",
              "    <tr>\n",
              "      <th>299984</th>\n",
              "      <td>A563187</td>\n",
              "      <td>B</td>\n",
              "      <td>Adjust bad debt</td>\n",
              "      <td>1</td>\n",
              "      <td>2011-08-12 14:52:00</td>\n",
              "      <td>-11062.06</td>\n",
              "      <td>NaN</td>\n",
              "      <td>United Kingdom</td>\n",
              "    </tr>\n",
              "  </tbody>\n",
              "</table>\n",
              "</div>"
            ],
            "text/plain": [
              "       InvoiceNo StockCode  ... CustomerID         Country\n",
              "299983   A563186         B  ...        NaN  United Kingdom\n",
              "299984   A563187         B  ...        NaN  United Kingdom\n",
              "\n",
              "[2 rows x 8 columns]"
            ]
          },
          "metadata": {},
          "execution_count": 24
        }
      ]
    },
    {
      "cell_type": "markdown",
      "metadata": {
        "id": "GHzut6XofvHy"
      },
      "source": [
        "Check Missing Value"
      ]
    },
    {
      "cell_type": "code",
      "metadata": {
        "id": "dNIf5ddm0_I0"
      },
      "source": [
        "#check missing value\n",
        "def summarize_dataset(df):\n",
        "    summary = pd.DataFrame(df.dtypes, columns=['Data Types'])\n",
        "    summary = summary.reset_index()\n",
        "    summary['Missing Values'] = df.isnull().sum().values\n",
        "    summary['Missing Values (percentage)'] = (df.isnull().sum().values/541909)*100\n",
        "    summary['Unique Values'] = df.nunique().values\n",
        "    \n",
        "    return summary"
      ],
      "execution_count": null,
      "outputs": []
    },
    {
      "cell_type": "code",
      "metadata": {
        "colab": {
          "base_uri": "https://localhost:8080/"
        },
        "id": "Swo1dNMp1KOl",
        "outputId": "9f248fe1-e8ce-4605-f2b8-af4abb9a9fe3"
      },
      "source": [
        "\n",
        "display(summarize_dataset(data))"
      ],
      "execution_count": null,
      "outputs": [
        {
          "output_type": "display_data",
          "data": {
            "text/html": [
              "<div>\n",
              "<style scoped>\n",
              "    .dataframe tbody tr th:only-of-type {\n",
              "        vertical-align: middle;\n",
              "    }\n",
              "\n",
              "    .dataframe tbody tr th {\n",
              "        vertical-align: top;\n",
              "    }\n",
              "\n",
              "    .dataframe thead th {\n",
              "        text-align: right;\n",
              "    }\n",
              "</style>\n",
              "<table border=\"1\" class=\"dataframe\">\n",
              "  <thead>\n",
              "    <tr style=\"text-align: right;\">\n",
              "      <th></th>\n",
              "      <th>index</th>\n",
              "      <th>Data Types</th>\n",
              "      <th>Missing Values</th>\n",
              "      <th>Missing Values (percentage)</th>\n",
              "      <th>Unique Values</th>\n",
              "    </tr>\n",
              "  </thead>\n",
              "  <tbody>\n",
              "    <tr>\n",
              "      <th>0</th>\n",
              "      <td>InvoiceNo</td>\n",
              "      <td>object</td>\n",
              "      <td>0</td>\n",
              "      <td>0.000000</td>\n",
              "      <td>22064</td>\n",
              "    </tr>\n",
              "    <tr>\n",
              "      <th>1</th>\n",
              "      <td>StockCode</td>\n",
              "      <td>object</td>\n",
              "      <td>0</td>\n",
              "      <td>0.000000</td>\n",
              "      <td>4059</td>\n",
              "    </tr>\n",
              "    <tr>\n",
              "      <th>2</th>\n",
              "      <td>Description</td>\n",
              "      <td>object</td>\n",
              "      <td>1454</td>\n",
              "      <td>0.268311</td>\n",
              "      <td>4207</td>\n",
              "    </tr>\n",
              "    <tr>\n",
              "      <th>3</th>\n",
              "      <td>Quantity</td>\n",
              "      <td>int64</td>\n",
              "      <td>0</td>\n",
              "      <td>0.000000</td>\n",
              "      <td>691</td>\n",
              "    </tr>\n",
              "    <tr>\n",
              "      <th>4</th>\n",
              "      <td>InvoiceDate</td>\n",
              "      <td>datetime64[ns]</td>\n",
              "      <td>0</td>\n",
              "      <td>0.000000</td>\n",
              "      <td>19990</td>\n",
              "    </tr>\n",
              "    <tr>\n",
              "      <th>5</th>\n",
              "      <td>UnitPrice</td>\n",
              "      <td>float64</td>\n",
              "      <td>0</td>\n",
              "      <td>0.000000</td>\n",
              "      <td>1293</td>\n",
              "    </tr>\n",
              "    <tr>\n",
              "      <th>6</th>\n",
              "      <td>CustomerID</td>\n",
              "      <td>float64</td>\n",
              "      <td>134697</td>\n",
              "      <td>24.856018</td>\n",
              "      <td>4339</td>\n",
              "    </tr>\n",
              "    <tr>\n",
              "      <th>7</th>\n",
              "      <td>Country</td>\n",
              "      <td>object</td>\n",
              "      <td>0</td>\n",
              "      <td>0.000000</td>\n",
              "      <td>38</td>\n",
              "    </tr>\n",
              "  </tbody>\n",
              "</table>\n",
              "</div>"
            ],
            "text/plain": [
              "         index      Data Types  ...  Missing Values (percentage)  Unique Values\n",
              "0    InvoiceNo          object  ...                     0.000000          22064\n",
              "1    StockCode          object  ...                     0.000000           4059\n",
              "2  Description          object  ...                     0.268311           4207\n",
              "3     Quantity           int64  ...                     0.000000            691\n",
              "4  InvoiceDate  datetime64[ns]  ...                     0.000000          19990\n",
              "5    UnitPrice         float64  ...                     0.000000           1293\n",
              "6   CustomerID         float64  ...                    24.856018           4339\n",
              "7      Country          object  ...                     0.000000             38\n",
              "\n",
              "[8 rows x 5 columns]"
            ]
          },
          "metadata": {}
        }
      ]
    },
    {
      "cell_type": "markdown",
      "metadata": {
        "id": "t0vsH9KTT-_D"
      },
      "source": [
        "\n",
        "*   The most missing values are in CustomerID column which reaches 24% of the data.\n",
        "*   Missing value in customer ID must be dropped because it cannot be replaced with any value\n",
        "\n",
        "\n",
        "\n"
      ]
    },
    {
      "cell_type": "code",
      "metadata": {
        "colab": {
          "base_uri": "https://localhost:8080/"
        },
        "id": "oz4Cpz00gIRy",
        "outputId": "1698cba2-424f-4095-9c1a-b2fa12fda4ab"
      },
      "source": [
        "data.shape"
      ],
      "execution_count": null,
      "outputs": [
        {
          "output_type": "execute_result",
          "data": {
            "text/plain": [
              "(532621, 8)"
            ]
          },
          "metadata": {},
          "execution_count": 27
        }
      ]
    },
    {
      "cell_type": "code",
      "metadata": {
        "id": "gAHon6m01S1O"
      },
      "source": [
        "#drop missing value\n",
        "\n",
        "data = data.dropna(axis = 0, how = 'any')"
      ],
      "execution_count": null,
      "outputs": []
    },
    {
      "cell_type": "code",
      "metadata": {
        "colab": {
          "base_uri": "https://localhost:8080/"
        },
        "id": "h9dg6IA9Wq0k",
        "outputId": "b7ed1d26-c72c-4b57-85ce-883f8af78ecf"
      },
      "source": [
        "display(summarize_dataset(data))"
      ],
      "execution_count": null,
      "outputs": [
        {
          "output_type": "display_data",
          "data": {
            "text/html": [
              "<div>\n",
              "<style scoped>\n",
              "    .dataframe tbody tr th:only-of-type {\n",
              "        vertical-align: middle;\n",
              "    }\n",
              "\n",
              "    .dataframe tbody tr th {\n",
              "        vertical-align: top;\n",
              "    }\n",
              "\n",
              "    .dataframe thead th {\n",
              "        text-align: right;\n",
              "    }\n",
              "</style>\n",
              "<table border=\"1\" class=\"dataframe\">\n",
              "  <thead>\n",
              "    <tr style=\"text-align: right;\">\n",
              "      <th></th>\n",
              "      <th>index</th>\n",
              "      <th>Data Types</th>\n",
              "      <th>Missing Values</th>\n",
              "      <th>Missing Values (percentage)</th>\n",
              "      <th>Unique Values</th>\n",
              "    </tr>\n",
              "  </thead>\n",
              "  <tbody>\n",
              "    <tr>\n",
              "      <th>0</th>\n",
              "      <td>InvoiceNo</td>\n",
              "      <td>object</td>\n",
              "      <td>0</td>\n",
              "      <td>0.0</td>\n",
              "      <td>18536</td>\n",
              "    </tr>\n",
              "    <tr>\n",
              "      <th>1</th>\n",
              "      <td>StockCode</td>\n",
              "      <td>object</td>\n",
              "      <td>0</td>\n",
              "      <td>0.0</td>\n",
              "      <td>3665</td>\n",
              "    </tr>\n",
              "    <tr>\n",
              "      <th>2</th>\n",
              "      <td>Description</td>\n",
              "      <td>object</td>\n",
              "      <td>0</td>\n",
              "      <td>0.0</td>\n",
              "      <td>3877</td>\n",
              "    </tr>\n",
              "    <tr>\n",
              "      <th>3</th>\n",
              "      <td>Quantity</td>\n",
              "      <td>int64</td>\n",
              "      <td>0</td>\n",
              "      <td>0.0</td>\n",
              "      <td>302</td>\n",
              "    </tr>\n",
              "    <tr>\n",
              "      <th>4</th>\n",
              "      <td>InvoiceDate</td>\n",
              "      <td>datetime64[ns]</td>\n",
              "      <td>0</td>\n",
              "      <td>0.0</td>\n",
              "      <td>17286</td>\n",
              "    </tr>\n",
              "    <tr>\n",
              "      <th>5</th>\n",
              "      <td>UnitPrice</td>\n",
              "      <td>float64</td>\n",
              "      <td>0</td>\n",
              "      <td>0.0</td>\n",
              "      <td>441</td>\n",
              "    </tr>\n",
              "    <tr>\n",
              "      <th>6</th>\n",
              "      <td>CustomerID</td>\n",
              "      <td>float64</td>\n",
              "      <td>0</td>\n",
              "      <td>0.0</td>\n",
              "      <td>4339</td>\n",
              "    </tr>\n",
              "    <tr>\n",
              "      <th>7</th>\n",
              "      <td>Country</td>\n",
              "      <td>object</td>\n",
              "      <td>0</td>\n",
              "      <td>0.0</td>\n",
              "      <td>37</td>\n",
              "    </tr>\n",
              "  </tbody>\n",
              "</table>\n",
              "</div>"
            ],
            "text/plain": [
              "         index      Data Types  ...  Missing Values (percentage)  Unique Values\n",
              "0    InvoiceNo          object  ...                          0.0          18536\n",
              "1    StockCode          object  ...                          0.0           3665\n",
              "2  Description          object  ...                          0.0           3877\n",
              "3     Quantity           int64  ...                          0.0            302\n",
              "4  InvoiceDate  datetime64[ns]  ...                          0.0          17286\n",
              "5    UnitPrice         float64  ...                          0.0            441\n",
              "6   CustomerID         float64  ...                          0.0           4339\n",
              "7      Country          object  ...                          0.0             37\n",
              "\n",
              "[8 rows x 5 columns]"
            ]
          },
          "metadata": {}
        }
      ]
    },
    {
      "cell_type": "code",
      "metadata": {
        "colab": {
          "base_uri": "https://localhost:8080/"
        },
        "id": "gmqS3EvhWs-W",
        "outputId": "51a3ef28-0c4c-4d47-9036-fe700d7d87d1"
      },
      "source": [
        "data. shape"
      ],
      "execution_count": null,
      "outputs": [
        {
          "output_type": "execute_result",
          "data": {
            "text/plain": [
              "(397924, 8)"
            ]
          },
          "metadata": {},
          "execution_count": 30
        }
      ]
    },
    {
      "cell_type": "code",
      "metadata": {
        "colab": {
          "base_uri": "https://localhost:8080/"
        },
        "id": "OyssJLYMXSZH",
        "outputId": "043f9cc4-7ed7-490e-a7a8-581f9eba3e48"
      },
      "source": [
        "data.describe()"
      ],
      "execution_count": null,
      "outputs": [
        {
          "output_type": "execute_result",
          "data": {
            "text/html": [
              "<div>\n",
              "<style scoped>\n",
              "    .dataframe tbody tr th:only-of-type {\n",
              "        vertical-align: middle;\n",
              "    }\n",
              "\n",
              "    .dataframe tbody tr th {\n",
              "        vertical-align: top;\n",
              "    }\n",
              "\n",
              "    .dataframe thead th {\n",
              "        text-align: right;\n",
              "    }\n",
              "</style>\n",
              "<table border=\"1\" class=\"dataframe\">\n",
              "  <thead>\n",
              "    <tr style=\"text-align: right;\">\n",
              "      <th></th>\n",
              "      <th>Quantity</th>\n",
              "      <th>UnitPrice</th>\n",
              "      <th>CustomerID</th>\n",
              "    </tr>\n",
              "  </thead>\n",
              "  <tbody>\n",
              "    <tr>\n",
              "      <th>count</th>\n",
              "      <td>397924.000000</td>\n",
              "      <td>397924.000000</td>\n",
              "      <td>397924.000000</td>\n",
              "    </tr>\n",
              "    <tr>\n",
              "      <th>mean</th>\n",
              "      <td>13.021823</td>\n",
              "      <td>3.116174</td>\n",
              "      <td>15294.315171</td>\n",
              "    </tr>\n",
              "    <tr>\n",
              "      <th>std</th>\n",
              "      <td>180.420210</td>\n",
              "      <td>22.096788</td>\n",
              "      <td>1713.169877</td>\n",
              "    </tr>\n",
              "    <tr>\n",
              "      <th>min</th>\n",
              "      <td>1.000000</td>\n",
              "      <td>0.000000</td>\n",
              "      <td>12346.000000</td>\n",
              "    </tr>\n",
              "    <tr>\n",
              "      <th>25%</th>\n",
              "      <td>2.000000</td>\n",
              "      <td>1.250000</td>\n",
              "      <td>13969.000000</td>\n",
              "    </tr>\n",
              "    <tr>\n",
              "      <th>50%</th>\n",
              "      <td>6.000000</td>\n",
              "      <td>1.950000</td>\n",
              "      <td>15159.000000</td>\n",
              "    </tr>\n",
              "    <tr>\n",
              "      <th>75%</th>\n",
              "      <td>12.000000</td>\n",
              "      <td>3.750000</td>\n",
              "      <td>16795.000000</td>\n",
              "    </tr>\n",
              "    <tr>\n",
              "      <th>max</th>\n",
              "      <td>80995.000000</td>\n",
              "      <td>8142.750000</td>\n",
              "      <td>18287.000000</td>\n",
              "    </tr>\n",
              "  </tbody>\n",
              "</table>\n",
              "</div>"
            ],
            "text/plain": [
              "            Quantity      UnitPrice     CustomerID\n",
              "count  397924.000000  397924.000000  397924.000000\n",
              "mean       13.021823       3.116174   15294.315171\n",
              "std       180.420210      22.096788    1713.169877\n",
              "min         1.000000       0.000000   12346.000000\n",
              "25%         2.000000       1.250000   13969.000000\n",
              "50%         6.000000       1.950000   15159.000000\n",
              "75%        12.000000       3.750000   16795.000000\n",
              "max     80995.000000    8142.750000   18287.000000"
            ]
          },
          "metadata": {},
          "execution_count": 31
        }
      ]
    },
    {
      "cell_type": "markdown",
      "metadata": {
        "id": "NPINXPKEszXW"
      },
      "source": [
        "There are no more missing values"
      ]
    },
    {
      "cell_type": "markdown",
      "metadata": {
        "id": "4XdWGjvRW5e_"
      },
      "source": [
        "## Exploratory Data Analysis"
      ]
    },
    {
      "cell_type": "markdown",
      "metadata": {
        "id": "-uD4A8rytjM8"
      },
      "source": [
        "1. what are the top 10 selling products?"
      ]
    },
    {
      "cell_type": "code",
      "metadata": {
        "colab": {
          "base_uri": "https://localhost:8080/",
          "height": 163
        },
        "id": "Ckh5S5gA1Cr3",
        "outputId": "c6ec4f14-926e-4696-ef61-b2c0ebb98aba"
      },
      "source": [
        "top_products "
      ],
      "execution_count": null,
      "outputs": [
        {
          "output_type": "error",
          "ename": "NameError",
          "evalue": "ignored",
          "traceback": [
            "\u001b[0;31m---------------------------------------------------------------------------\u001b[0m",
            "\u001b[0;31mNameError\u001b[0m                                 Traceback (most recent call last)",
            "\u001b[0;32m<ipython-input-33-d0ea89ffbe9c>\u001b[0m in \u001b[0;36m<module>\u001b[0;34m()\u001b[0m\n\u001b[0;32m----> 1\u001b[0;31m \u001b[0mtop_products\u001b[0m\u001b[0;34m\u001b[0m\u001b[0;34m\u001b[0m\u001b[0m\n\u001b[0m",
            "\u001b[0;31mNameError\u001b[0m: name 'top_products' is not defined"
          ]
        }
      ]
    },
    {
      "cell_type": "code",
      "metadata": {
        "colab": {
          "base_uri": "https://localhost:8080/",
          "height": 390
        },
        "id": "sKrKymLQt7sl",
        "outputId": "0f3eb138-de84-4461-9b79-b98cf2b41b0b"
      },
      "source": [
        "top_products = data.groupby(\"Description\").agg({\"Quantity\": \"sum\"}).sort_values(\"Quantity\", ascending=False).head(10)\n",
        "top_products"
      ],
      "execution_count": null,
      "outputs": [
        {
          "output_type": "execute_result",
          "data": {
            "text/html": [
              "<div>\n",
              "<style scoped>\n",
              "    .dataframe tbody tr th:only-of-type {\n",
              "        vertical-align: middle;\n",
              "    }\n",
              "\n",
              "    .dataframe tbody tr th {\n",
              "        vertical-align: top;\n",
              "    }\n",
              "\n",
              "    .dataframe thead th {\n",
              "        text-align: right;\n",
              "    }\n",
              "</style>\n",
              "<table border=\"1\" class=\"dataframe\">\n",
              "  <thead>\n",
              "    <tr style=\"text-align: right;\">\n",
              "      <th></th>\n",
              "      <th>Quantity</th>\n",
              "    </tr>\n",
              "    <tr>\n",
              "      <th>Description</th>\n",
              "      <th></th>\n",
              "    </tr>\n",
              "  </thead>\n",
              "  <tbody>\n",
              "    <tr>\n",
              "      <th>PAPER CRAFT , LITTLE BIRDIE</th>\n",
              "      <td>80995</td>\n",
              "    </tr>\n",
              "    <tr>\n",
              "      <th>MEDIUM CERAMIC TOP STORAGE JAR</th>\n",
              "      <td>77916</td>\n",
              "    </tr>\n",
              "    <tr>\n",
              "      <th>WORLD WAR 2 GLIDERS ASSTD DESIGNS</th>\n",
              "      <td>54415</td>\n",
              "    </tr>\n",
              "    <tr>\n",
              "      <th>JUMBO BAG RED RETROSPOT</th>\n",
              "      <td>46181</td>\n",
              "    </tr>\n",
              "    <tr>\n",
              "      <th>WHITE HANGING HEART T-LIGHT HOLDER</th>\n",
              "      <td>36725</td>\n",
              "    </tr>\n",
              "    <tr>\n",
              "      <th>ASSORTED COLOUR BIRD ORNAMENT</th>\n",
              "      <td>35362</td>\n",
              "    </tr>\n",
              "    <tr>\n",
              "      <th>PACK OF 72 RETROSPOT CAKE CASES</th>\n",
              "      <td>33693</td>\n",
              "    </tr>\n",
              "    <tr>\n",
              "      <th>POPCORN HOLDER</th>\n",
              "      <td>30931</td>\n",
              "    </tr>\n",
              "    <tr>\n",
              "      <th>RABBIT NIGHT LIGHT</th>\n",
              "      <td>27202</td>\n",
              "    </tr>\n",
              "    <tr>\n",
              "      <th>MINI PAINT SET VINTAGE</th>\n",
              "      <td>26076</td>\n",
              "    </tr>\n",
              "  </tbody>\n",
              "</table>\n",
              "</div>"
            ],
            "text/plain": [
              "                                    Quantity\n",
              "Description                                 \n",
              "PAPER CRAFT , LITTLE BIRDIE            80995\n",
              "MEDIUM CERAMIC TOP STORAGE JAR         77916\n",
              "WORLD WAR 2 GLIDERS ASSTD DESIGNS      54415\n",
              "JUMBO BAG RED RETROSPOT                46181\n",
              "WHITE HANGING HEART T-LIGHT HOLDER     36725\n",
              "ASSORTED COLOUR BIRD ORNAMENT          35362\n",
              "PACK OF 72 RETROSPOT CAKE CASES        33693\n",
              "POPCORN HOLDER                         30931\n",
              "RABBIT NIGHT LIGHT                     27202\n",
              "MINI PAINT SET VINTAGE                 26076"
            ]
          },
          "metadata": {},
          "execution_count": 34
        }
      ]
    },
    {
      "cell_type": "code",
      "metadata": {
        "colab": {
          "base_uri": "https://localhost:8080/",
          "height": 676
        },
        "id": "gQDbnYyWzzqB",
        "outputId": "857172ea-cb34-4d69-e8e3-518142aa6106"
      },
      "source": [
        "product_df = pd.DataFrame(top_products.groupby('Description')['Quantity'].sum())\n",
        "product_df.columns = ['Number of Product']\n",
        "product_df.sort_values('Number of Product', inplace=True, ascending=False)\n",
        "fig, ax = plt.subplots(figsize=(8,4),dpi=100)\n",
        "ax=sns.barplot(x=product_df.index, y=product_df['Number of Product'])\n",
        "ax.set_xticklabels(ax.get_xticklabels(), rotation=90, ha=\"right\")\n",
        "plt.title('Top 10 best products')\n",
        "plt.show()"
      ],
      "execution_count": null,
      "outputs": [
        {
          "output_type": "display_data",
          "data": {
            "image/png": "[encoded data removed]",
            "text/plain": [
              "<Figure size 800x400 with 1 Axes>"
            ]
          },
          "metadata": {
            "needs_background": "light"
          }
        }
      ]
    },
    {
      "cell_type": "markdown",
      "metadata": {
        "id": "CKaT8Y9Bwmkr"
      },
      "source": [
        "2. How is the distribution of customers by country?"
      ]
    },
    {
      "cell_type": "code",
      "metadata": {
        "colab": {
          "base_uri": "https://localhost:8080/",
          "height": 204
        },
        "id": "dor0KksEWvdp",
        "outputId": "aa5a6069-af06-4f3e-e62a-736e0fd7e075"
      },
      "source": [
        "data.head()"
      ],
      "execution_count": null,
      "outputs": [
        {
          "output_type": "execute_result",
          "data": {
            "text/html": [
              "<div>\n",
              "<style scoped>\n",
              "    .dataframe tbody tr th:only-of-type {\n",
              "        vertical-align: middle;\n",
              "    }\n",
              "\n",
              "    .dataframe tbody tr th {\n",
              "        vertical-align: top;\n",
              "    }\n",
              "\n",
              "    .dataframe thead th {\n",
              "        text-align: right;\n",
              "    }\n",
              "</style>\n",
              "<table border=\"1\" class=\"dataframe\">\n",
              "  <thead>\n",
              "    <tr style=\"text-align: right;\">\n",
              "      <th></th>\n",
              "      <th>InvoiceNo</th>\n",
              "      <th>StockCode</th>\n",
              "      <th>Description</th>\n",
              "      <th>Quantity</th>\n",
              "      <th>InvoiceDate</th>\n",
              "      <th>UnitPrice</th>\n",
              "      <th>CustomerID</th>\n",
              "      <th>Country</th>\n",
              "    </tr>\n",
              "  </thead>\n",
              "  <tbody>\n",
              "    <tr>\n",
              "      <th>0</th>\n",
              "      <td>536365</td>\n",
              "      <td>85123A</td>\n",
              "      <td>WHITE HANGING HEART T-LIGHT HOLDER</td>\n",
              "      <td>6</td>\n",
              "      <td>2010-12-01 08:26:00</td>\n",
              "      <td>2.55</td>\n",
              "      <td>17850.0</td>\n",
              "      <td>United Kingdom</td>\n",
              "    </tr>\n",
              "    <tr>\n",
              "      <th>1</th>\n",
              "      <td>536365</td>\n",
              "      <td>71053</td>\n",
              "      <td>WHITE METAL LANTERN</td>\n",
              "      <td>6</td>\n",
              "      <td>2010-12-01 08:26:00</td>\n",
              "      <td>3.39</td>\n",
              "      <td>17850.0</td>\n",
              "      <td>United Kingdom</td>\n",
              "    </tr>\n",
              "    <tr>\n",
              "      <th>2</th>\n",
              "      <td>536365</td>\n",
              "      <td>84406B</td>\n",
              "      <td>CREAM CUPID HEARTS COAT HANGER</td>\n",
              "      <td>8</td>\n",
              "      <td>2010-12-01 08:26:00</td>\n",
              "      <td>2.75</td>\n",
              "      <td>17850.0</td>\n",
              "      <td>United Kingdom</td>\n",
              "    </tr>\n",
              "    <tr>\n",
              "      <th>3</th>\n",
              "      <td>536365</td>\n",
              "      <td>84029G</td>\n",
              "      <td>KNITTED UNION FLAG HOT WATER BOTTLE</td>\n",
              "      <td>6</td>\n",
              "      <td>2010-12-01 08:26:00</td>\n",
              "      <td>3.39</td>\n",
              "      <td>17850.0</td>\n",
              "      <td>United Kingdom</td>\n",
              "    </tr>\n",
              "    <tr>\n",
              "      <th>4</th>\n",
              "      <td>536365</td>\n",
              "      <td>84029E</td>\n",
              "      <td>RED WOOLLY HOTTIE WHITE HEART.</td>\n",
              "      <td>6</td>\n",
              "      <td>2010-12-01 08:26:00</td>\n",
              "      <td>3.39</td>\n",
              "      <td>17850.0</td>\n",
              "      <td>United Kingdom</td>\n",
              "    </tr>\n",
              "  </tbody>\n",
              "</table>\n",
              "</div>"
            ],
            "text/plain": [
              "  InvoiceNo StockCode  ... CustomerID         Country\n",
              "0    536365    85123A  ...    17850.0  United Kingdom\n",
              "1    536365     71053  ...    17850.0  United Kingdom\n",
              "2    536365    84406B  ...    17850.0  United Kingdom\n",
              "3    536365    84029G  ...    17850.0  United Kingdom\n",
              "4    536365    84029E  ...    17850.0  United Kingdom\n",
              "\n",
              "[5 rows x 8 columns]"
            ]
          },
          "metadata": {},
          "execution_count": 36
        }
      ]
    },
    {
      "cell_type": "code",
      "metadata": {
        "colab": {
          "base_uri": "https://localhost:8080/"
        },
        "id": "Sz-uRDi2cPtd",
        "outputId": "dbf70106-b595-4bc1-dfc8-a1df009ddf65"
      },
      "source": [
        "data.Country.value_counts()"
      ],
      "execution_count": null,
      "outputs": [
        {
          "output_type": "execute_result",
          "data": {
            "text/plain": [
              "United Kingdom          354345\n",
              "Germany                   9042\n",
              "France                    8342\n",
              "EIRE                      7238\n",
              "Spain                     2485\n",
              "Netherlands               2363\n",
              "Belgium                   2031\n",
              "Switzerland               1842\n",
              "Portugal                  1462\n",
              "Australia                 1185\n",
              "Norway                    1072\n",
              "Italy                      758\n",
              "Channel Islands            748\n",
              "Finland                    685\n",
              "Cyprus                     614\n",
              "Sweden                     451\n",
              "Austria                    398\n",
              "Denmark                    380\n",
              "Poland                     330\n",
              "Japan                      321\n",
              "Israel                     248\n",
              "Unspecified                244\n",
              "Singapore                  222\n",
              "Iceland                    182\n",
              "USA                        179\n",
              "Canada                     151\n",
              "Greece                     145\n",
              "Malta                      112\n",
              "United Arab Emirates        68\n",
              "European Community          60\n",
              "RSA                         58\n",
              "Lebanon                     45\n",
              "Lithuania                   35\n",
              "Brazil                      32\n",
              "Czech Republic              25\n",
              "Bahrain                     17\n",
              "Saudi Arabia                 9\n",
              "Name: Country, dtype: int64"
            ]
          },
          "metadata": {},
          "execution_count": 37
        }
      ]
    },
    {
      "cell_type": "code",
      "metadata": {
        "colab": {
          "base_uri": "https://localhost:8080/",
          "height": 670
        },
        "id": "Dn9atrCcy2JT",
        "outputId": "6f0410d2-1c2d-40b8-c681-03e7c8bcac08"
      },
      "source": [
        "country_df = pd.DataFrame(data.groupby('Country')['CustomerID'].nunique())\n",
        "country_df.columns = ['Number of Customers by Country']\n",
        "country_df.sort_values('Number of Customers by Country', inplace=True, ascending=False)\n",
        "fig, ax = plt.subplots(figsize=(12,6),dpi=100)\n",
        "ax=sns.barplot(x=country_df.index, y=country_df['Number of Customers by Country'])\n",
        "ax.set_xticklabels(ax.get_xticklabels(), rotation=90, ha=\"right\")\n",
        "plt.show()"
      ],
      "execution_count": null,
      "outputs": [
        {
          "output_type": "display_data",
          "data": {
            "image/png": "[encoded data removed]",
            "text/plain": [
              "<Figure size 1200x600 with 1 Axes>"
            ]
          },
          "metadata": {
            "needs_background": "light"
          }
        }
      ]
    },
    {
      "cell_type": "markdown",
      "metadata": {
        "id": "2AgcOAgZgoPD"
      },
      "source": [
        "- Based on the picture, it can be seen that most of the customers are from United Kingdom which reached 3.800 customers.\n",
        "- The fewest customers are from European Community"
      ]
    },
    {
      "cell_type": "code",
      "metadata": {
        "colab": {
          "base_uri": "https://localhost:8080/"
        },
        "id": "UdrNXWvO9enk",
        "outputId": "7685ea8b-e3f9-4f50-c87f-8290e2af66ac"
      },
      "source": [
        "data['Total_Cost'] = data['Quantity'] * data['UnitPrice']"
      ],
      "execution_count": null,
      "outputs": [
        {
          "output_type": "stream",
          "name": "stderr",
          "text": [
            "/usr/local/lib/python3.7/dist-packages/ipykernel_launcher.py:1: SettingWithCopyWarning:\n",
            "\n",
            "\n",
            "A value is trying to be set on a copy of a slice from a DataFrame.\n",
            "Try using .loc[row_indexer,col_indexer] = value instead\n",
            "\n",
            "See the caveats in the documentation: https://pandas.pydata.org/pandas-docs/stable/user_guide/indexing.html#returning-a-view-versus-a-copy\n",
            "\n"
          ]
        }
      ]
    },
    {
      "cell_type": "code",
      "metadata": {
        "colab": {
          "base_uri": "https://localhost:8080/",
          "height": 643
        },
        "id": "x5yxoz-L9QGm",
        "outputId": "a4f2c060-082c-4369-c20c-8764caeddc23"
      },
      "source": [
        "fig1, ax1 = plt.subplots(figsize=(12,6),dpi=100)\n",
        "ax1=sns.barplot(x='Country', y='Total_Cost', data=data, estimator=max, ax=ax1)\n",
        "ax1.set_xticklabels(ax1.get_xticklabels(), rotation=50, ha=\"right\")\n",
        "plt.show()"
      ],
      "execution_count": null,
      "outputs": [
        {
          "output_type": "display_data",
          "data": {
            "image/png": "[encoded data removed]",
            "text/plain": [
              "<Figure size 1200x600 with 1 Axes>"
            ]
          },
          "metadata": {
            "needs_background": "light"
          }
        }
      ]
    },
    {
      "cell_type": "markdown",
      "metadata": {
        "id": "X2P3QhY_-xzA"
      },
      "source": [
        "The UK has not only the most sales revenue, but also the most customers. Since most of this data set contains orders from the UK. France is the second country with the largest total cost. While the least total costs is RSA country"
      ]
    },
    {
      "cell_type": "markdown",
      "metadata": {
        "id": "cKKpR4Y7wzvh"
      },
      "source": [
        "3. How many products are sold each month?"
      ]
    },
    {
      "cell_type": "code",
      "metadata": {
        "colab": {
          "base_uri": "https://localhost:8080/",
          "height": 340
        },
        "id": "s2sNU6l0xcsQ",
        "outputId": "9724d0fc-97ff-44bf-980c-e357b72a227c"
      },
      "source": [
        "#create a new table in the form of month and year of purchase\n",
        "\n",
        "data['Date'] = data['InvoiceDate'].dt.strftime('%Y-%m')\n",
        "data.head()"
      ],
      "execution_count": null,
      "outputs": [
        {
          "output_type": "stream",
          "name": "stderr",
          "text": [
            "/usr/local/lib/python3.7/dist-packages/ipykernel_launcher.py:3: SettingWithCopyWarning:\n",
            "\n",
            "\n",
            "A value is trying to be set on a copy of a slice from a DataFrame.\n",
            "Try using .loc[row_indexer,col_indexer] = value instead\n",
            "\n",
            "See the caveats in the documentation: https://pandas.pydata.org/pandas-docs/stable/user_guide/indexing.html#returning-a-view-versus-a-copy\n",
            "\n"
          ]
        },
        {
          "output_type": "execute_result",
          "data": {
            "text/html": [
              "<div>\n",
              "<style scoped>\n",
              "    .dataframe tbody tr th:only-of-type {\n",
              "        vertical-align: middle;\n",
              "    }\n",
              "\n",
              "    .dataframe tbody tr th {\n",
              "        vertical-align: top;\n",
              "    }\n",
              "\n",
              "    .dataframe thead th {\n",
              "        text-align: right;\n",
              "    }\n",
              "</style>\n",
              "<table border=\"1\" class=\"dataframe\">\n",
              "  <thead>\n",
              "    <tr style=\"text-align: right;\">\n",
              "      <th></th>\n",
              "      <th>InvoiceNo</th>\n",
              "      <th>StockCode</th>\n",
              "      <th>Description</th>\n",
              "      <th>Quantity</th>\n",
              "      <th>InvoiceDate</th>\n",
              "      <th>UnitPrice</th>\n",
              "      <th>CustomerID</th>\n",
              "      <th>Country</th>\n",
              "      <th>Total_Cost</th>\n",
              "      <th>Date</th>\n",
              "    </tr>\n",
              "  </thead>\n",
              "  <tbody>\n",
              "    <tr>\n",
              "      <th>0</th>\n",
              "      <td>536365</td>\n",
              "      <td>85123A</td>\n",
              "      <td>WHITE HANGING HEART T-LIGHT HOLDER</td>\n",
              "      <td>6</td>\n",
              "      <td>2010-12-01 08:26:00</td>\n",
              "      <td>2.55</td>\n",
              "      <td>17850.0</td>\n",
              "      <td>United Kingdom</td>\n",
              "      <td>15.30</td>\n",
              "      <td>2010-12</td>\n",
              "    </tr>\n",
              "    <tr>\n",
              "      <th>1</th>\n",
              "      <td>536365</td>\n",
              "      <td>71053</td>\n",
              "      <td>WHITE METAL LANTERN</td>\n",
              "      <td>6</td>\n",
              "      <td>2010-12-01 08:26:00</td>\n",
              "      <td>3.39</td>\n",
              "      <td>17850.0</td>\n",
              "      <td>United Kingdom</td>\n",
              "      <td>20.34</td>\n",
              "      <td>2010-12</td>\n",
              "    </tr>\n",
              "    <tr>\n",
              "      <th>2</th>\n",
              "      <td>536365</td>\n",
              "      <td>84406B</td>\n",
              "      <td>CREAM CUPID HEARTS COAT HANGER</td>\n",
              "      <td>8</td>\n",
              "      <td>2010-12-01 08:26:00</td>\n",
              "      <td>2.75</td>\n",
              "      <td>17850.0</td>\n",
              "      <td>United Kingdom</td>\n",
              "      <td>22.00</td>\n",
              "      <td>2010-12</td>\n",
              "    </tr>\n",
              "    <tr>\n",
              "      <th>3</th>\n",
              "      <td>536365</td>\n",
              "      <td>84029G</td>\n",
              "      <td>KNITTED UNION FLAG HOT WATER BOTTLE</td>\n",
              "      <td>6</td>\n",
              "      <td>2010-12-01 08:26:00</td>\n",
              "      <td>3.39</td>\n",
              "      <td>17850.0</td>\n",
              "      <td>United Kingdom</td>\n",
              "      <td>20.34</td>\n",
              "      <td>2010-12</td>\n",
              "    </tr>\n",
              "    <tr>\n",
              "      <th>4</th>\n",
              "      <td>536365</td>\n",
              "      <td>84029E</td>\n",
              "      <td>RED WOOLLY HOTTIE WHITE HEART.</td>\n",
              "      <td>6</td>\n",
              "      <td>2010-12-01 08:26:00</td>\n",
              "      <td>3.39</td>\n",
              "      <td>17850.0</td>\n",
              "      <td>United Kingdom</td>\n",
              "      <td>20.34</td>\n",
              "      <td>2010-12</td>\n",
              "    </tr>\n",
              "  </tbody>\n",
              "</table>\n",
              "</div>"
            ],
            "text/plain": [
              "  InvoiceNo StockCode  ... Total_Cost     Date\n",
              "0    536365    85123A  ...      15.30  2010-12\n",
              "1    536365     71053  ...      20.34  2010-12\n",
              "2    536365    84406B  ...      22.00  2010-12\n",
              "3    536365    84029G  ...      20.34  2010-12\n",
              "4    536365    84029E  ...      20.34  2010-12\n",
              "\n",
              "[5 rows x 10 columns]"
            ]
          },
          "metadata": {},
          "execution_count": 41
        }
      ]
    },
    {
      "cell_type": "code",
      "metadata": {
        "colab": {
          "base_uri": "https://localhost:8080/"
        },
        "id": "IswVbfSUxMPF",
        "outputId": "1f091d1e-2036-4532-cc52-14210f5dbd74"
      },
      "source": [
        "data_product= data.groupby(\"Date\").Quantity.sum()\n",
        "data_product.head()"
      ],
      "execution_count": null,
      "outputs": [
        {
          "output_type": "execute_result",
          "data": {
            "text/plain": [
              "Date\n",
              "2010-12    312280\n",
              "2011-01    349147\n",
              "2011-02    265638\n",
              "2011-03    348544\n",
              "2011-04    292225\n",
              "Name: Quantity, dtype: int64"
            ]
          },
          "metadata": {},
          "execution_count": 42
        }
      ]
    },
    {
      "cell_type": "code",
      "metadata": {
        "colab": {
          "base_uri": "https://localhost:8080/",
          "height": 204
        },
        "id": "1YU1OKZczDSu",
        "outputId": "63da6bbf-b68f-427e-bc85-494e98fa98d1"
      },
      "source": [
        "#converting series to dataframe and resetting index.\n",
        "\n",
        "data_product=pd.DataFrame(data_product)\n",
        "data_product=data_product.reset_index()\n",
        "data_product.head()"
      ],
      "execution_count": null,
      "outputs": [
        {
          "output_type": "execute_result",
          "data": {
            "text/html": [
              "<div>\n",
              "<style scoped>\n",
              "    .dataframe tbody tr th:only-of-type {\n",
              "        vertical-align: middle;\n",
              "    }\n",
              "\n",
              "    .dataframe tbody tr th {\n",
              "        vertical-align: top;\n",
              "    }\n",
              "\n",
              "    .dataframe thead th {\n",
              "        text-align: right;\n",
              "    }\n",
              "</style>\n",
              "<table border=\"1\" class=\"dataframe\">\n",
              "  <thead>\n",
              "    <tr style=\"text-align: right;\">\n",
              "      <th></th>\n",
              "      <th>Date</th>\n",
              "      <th>Quantity</th>\n",
              "    </tr>\n",
              "  </thead>\n",
              "  <tbody>\n",
              "    <tr>\n",
              "      <th>0</th>\n",
              "      <td>2010-12</td>\n",
              "      <td>312280</td>\n",
              "    </tr>\n",
              "    <tr>\n",
              "      <th>1</th>\n",
              "      <td>2011-01</td>\n",
              "      <td>349147</td>\n",
              "    </tr>\n",
              "    <tr>\n",
              "      <th>2</th>\n",
              "      <td>2011-02</td>\n",
              "      <td>265638</td>\n",
              "    </tr>\n",
              "    <tr>\n",
              "      <th>3</th>\n",
              "      <td>2011-03</td>\n",
              "      <td>348544</td>\n",
              "    </tr>\n",
              "    <tr>\n",
              "      <th>4</th>\n",
              "      <td>2011-04</td>\n",
              "      <td>292225</td>\n",
              "    </tr>\n",
              "  </tbody>\n",
              "</table>\n",
              "</div>"
            ],
            "text/plain": [
              "      Date  Quantity\n",
              "0  2010-12    312280\n",
              "1  2011-01    349147\n",
              "2  2011-02    265638\n",
              "3  2011-03    348544\n",
              "4  2011-04    292225"
            ]
          },
          "metadata": {},
          "execution_count": 43
        }
      ]
    },
    {
      "cell_type": "code",
      "metadata": {
        "id": "bL-xitcoyM2V"
      },
      "source": [
        "\n",
        "def plot_df(data, x, y, title=\"\", xlabel='Date', ylabel='Quantity', dpi=100):\n",
        "    plt.figure(figsize=(14,5), dpi=dpi)\n",
        "    plt.gca().set(title=title, xlabel=xlabel, ylabel=ylabel)\n",
        "    plt.plot(x, y, color='tab:Green', marker='o', alpha = 0.65)\n",
        "    plt.show()"
      ],
      "execution_count": null,
      "outputs": []
    },
    {
      "cell_type": "code",
      "metadata": {
        "colab": {
          "base_uri": "https://localhost:8080/",
          "height": 480
        },
        "id": "jY2iLvgty2bE",
        "outputId": "3cddcfb0-c05a-4122-d2d2-0862c8589213"
      },
      "source": [
        "plot_df(data_product, x=data_product.Date, y=data_product.Quantity,title='Purchase by Month')"
      ],
      "execution_count": null,
      "outputs": [
        {
          "output_type": "display_data",
          "data": {
            "image/png": "[encoded data removed]",
            "text/plain": [
              "<Figure size 1400x500 with 1 Axes>"
            ]
          },
          "metadata": {
            "needs_background": "light"
          }
        }
      ]
    },
    {
      "cell_type": "markdown",
      "metadata": {
        "id": "WGRXHEIa3hMk"
      },
      "source": [
        "## RFM Method"
      ]
    },
    {
      "cell_type": "code",
      "metadata": {
        "id": "8W5Tv2cEyviC"
      },
      "source": [
        "data_final =data"
      ],
      "execution_count": null,
      "outputs": []
    },
    {
      "cell_type": "code",
      "metadata": {
        "colab": {
          "base_uri": "https://localhost:8080/"
        },
        "id": "RAeuNMLD8S2V",
        "outputId": "dc4f7d7b-4ede-4e5b-9d33-8ae8cc1b6be5"
      },
      "source": [
        "data_final.head()"
      ],
      "execution_count": null,
      "outputs": [
        {
          "output_type": "execute_result",
          "data": {
            "text/html": [
              "<div>\n",
              "<style scoped>\n",
              "    .dataframe tbody tr th:only-of-type {\n",
              "        vertical-align: middle;\n",
              "    }\n",
              "\n",
              "    .dataframe tbody tr th {\n",
              "        vertical-align: top;\n",
              "    }\n",
              "\n",
              "    .dataframe thead th {\n",
              "        text-align: right;\n",
              "    }\n",
              "</style>\n",
              "<table border=\"1\" class=\"dataframe\">\n",
              "  <thead>\n",
              "    <tr style=\"text-align: right;\">\n",
              "      <th></th>\n",
              "      <th>InvoiceNo</th>\n",
              "      <th>StockCode</th>\n",
              "      <th>Description</th>\n",
              "      <th>Quantity</th>\n",
              "      <th>InvoiceDate</th>\n",
              "      <th>UnitPrice</th>\n",
              "      <th>CustomerID</th>\n",
              "      <th>Country</th>\n",
              "      <th>Total_Cost</th>\n",
              "      <th>Date</th>\n",
              "    </tr>\n",
              "  </thead>\n",
              "  <tbody>\n",
              "    <tr>\n",
              "      <th>0</th>\n",
              "      <td>536365</td>\n",
              "      <td>85123A</td>\n",
              "      <td>WHITE HANGING HEART T-LIGHT HOLDER</td>\n",
              "      <td>6</td>\n",
              "      <td>2010-12-01 08:26:00</td>\n",
              "      <td>2.55</td>\n",
              "      <td>17850.0</td>\n",
              "      <td>United Kingdom</td>\n",
              "      <td>15.30</td>\n",
              "      <td>2010-12</td>\n",
              "    </tr>\n",
              "    <tr>\n",
              "      <th>1</th>\n",
              "      <td>536365</td>\n",
              "      <td>71053</td>\n",
              "      <td>WHITE METAL LANTERN</td>\n",
              "      <td>6</td>\n",
              "      <td>2010-12-01 08:26:00</td>\n",
              "      <td>3.39</td>\n",
              "      <td>17850.0</td>\n",
              "      <td>United Kingdom</td>\n",
              "      <td>20.34</td>\n",
              "      <td>2010-12</td>\n",
              "    </tr>\n",
              "    <tr>\n",
              "      <th>2</th>\n",
              "      <td>536365</td>\n",
              "      <td>84406B</td>\n",
              "      <td>CREAM CUPID HEARTS COAT HANGER</td>\n",
              "      <td>8</td>\n",
              "      <td>2010-12-01 08:26:00</td>\n",
              "      <td>2.75</td>\n",
              "      <td>17850.0</td>\n",
              "      <td>United Kingdom</td>\n",
              "      <td>22.00</td>\n",
              "      <td>2010-12</td>\n",
              "    </tr>\n",
              "    <tr>\n",
              "      <th>3</th>\n",
              "      <td>536365</td>\n",
              "      <td>84029G</td>\n",
              "      <td>KNITTED UNION FLAG HOT WATER BOTTLE</td>\n",
              "      <td>6</td>\n",
              "      <td>2010-12-01 08:26:00</td>\n",
              "      <td>3.39</td>\n",
              "      <td>17850.0</td>\n",
              "      <td>United Kingdom</td>\n",
              "      <td>20.34</td>\n",
              "      <td>2010-12</td>\n",
              "    </tr>\n",
              "    <tr>\n",
              "      <th>4</th>\n",
              "      <td>536365</td>\n",
              "      <td>84029E</td>\n",
              "      <td>RED WOOLLY HOTTIE WHITE HEART.</td>\n",
              "      <td>6</td>\n",
              "      <td>2010-12-01 08:26:00</td>\n",
              "      <td>3.39</td>\n",
              "      <td>17850.0</td>\n",
              "      <td>United Kingdom</td>\n",
              "      <td>20.34</td>\n",
              "      <td>2010-12</td>\n",
              "    </tr>\n",
              "  </tbody>\n",
              "</table>\n",
              "</div>"
            ],
            "text/plain": [
              "  InvoiceNo StockCode  ... Total_Cost     Date\n",
              "0    536365    85123A  ...      15.30  2010-12\n",
              "1    536365     71053  ...      20.34  2010-12\n",
              "2    536365    84406B  ...      22.00  2010-12\n",
              "3    536365    84029G  ...      20.34  2010-12\n",
              "4    536365    84029E  ...      20.34  2010-12\n",
              "\n",
              "[5 rows x 10 columns]"
            ]
          },
          "metadata": {},
          "execution_count": 47
        }
      ]
    },
    {
      "cell_type": "code",
      "metadata": {
        "colab": {
          "base_uri": "https://localhost:8080/"
        },
        "id": "D7izyCKi9mxP",
        "outputId": "b1d68d96-b453-4c1b-a391-52fdcf941523"
      },
      "source": [
        "# the last date of purchase\n",
        "data_final[\"InvoiceDate\"].max()"
      ],
      "execution_count": null,
      "outputs": [
        {
          "output_type": "execute_result",
          "data": {
            "text/plain": [
              "Timestamp('2011-12-09 12:50:00')"
            ]
          },
          "metadata": {},
          "execution_count": 48
        }
      ]
    },
    {
      "cell_type": "code",
      "metadata": {
        "id": "ubadZ2NJ_CMZ"
      },
      "source": [
        "import datetime as dt\n",
        "today_date = dt.datetime(2011, 12, 10)"
      ],
      "execution_count": null,
      "outputs": []
    },
    {
      "cell_type": "code",
      "metadata": {
        "id": "5bCtobBYK5I6"
      },
      "source": [
        "rfm = data_final.groupby('CustomerID').agg({'InvoiceDate': lambda date: (today_date - date.max()).days,\n",
        "                                     'InvoiceNo':'count',\n",
        "                                     'Total_Cost': 'sum'})"
      ],
      "execution_count": null,
      "outputs": []
    },
    {
      "cell_type": "code",
      "metadata": {
        "id": "LmfXMDOvypSM"
      },
      "source": [
        "#change column names \n",
        "rfm.columns = ['Recency', 'Frequency', 'Monetary']"
      ],
      "execution_count": null,
      "outputs": []
    },
    {
      "cell_type": "code",
      "metadata": {
        "id": "OuE5xJQPzOT8"
      },
      "source": [
        "#the number of Monetary and the Frequency cannot be less than 0\n",
        "rfm = rfm[(rfm[\"Monetary\"]) > 0 & (rfm[\"Frequency\"] > 0)]"
      ],
      "execution_count": null,
      "outputs": []
    },
    {
      "cell_type": "code",
      "metadata": {
        "colab": {
          "base_uri": "https://localhost:8080/"
        },
        "id": "n571fZJuzhRl",
        "outputId": "f90bb24f-c29e-4bef-9a1b-f4948d4a0fc2"
      },
      "source": [
        "rfm.head()"
      ],
      "execution_count": null,
      "outputs": [
        {
          "output_type": "execute_result",
          "data": {
            "text/html": [
              "<div>\n",
              "<style scoped>\n",
              "    .dataframe tbody tr th:only-of-type {\n",
              "        vertical-align: middle;\n",
              "    }\n",
              "\n",
              "    .dataframe tbody tr th {\n",
              "        vertical-align: top;\n",
              "    }\n",
              "\n",
              "    .dataframe thead th {\n",
              "        text-align: right;\n",
              "    }\n",
              "</style>\n",
              "<table border=\"1\" class=\"dataframe\">\n",
              "  <thead>\n",
              "    <tr style=\"text-align: right;\">\n",
              "      <th></th>\n",
              "      <th>Recency</th>\n",
              "      <th>Frequency</th>\n",
              "      <th>Monetary</th>\n",
              "    </tr>\n",
              "    <tr>\n",
              "      <th>CustomerID</th>\n",
              "      <th></th>\n",
              "      <th></th>\n",
              "      <th></th>\n",
              "    </tr>\n",
              "  </thead>\n",
              "  <tbody>\n",
              "    <tr>\n",
              "      <th>12346.0</th>\n",
              "      <td>325</td>\n",
              "      <td>1</td>\n",
              "      <td>77183.60</td>\n",
              "    </tr>\n",
              "    <tr>\n",
              "      <th>12347.0</th>\n",
              "      <td>2</td>\n",
              "      <td>182</td>\n",
              "      <td>4310.00</td>\n",
              "    </tr>\n",
              "    <tr>\n",
              "      <th>12348.0</th>\n",
              "      <td>75</td>\n",
              "      <td>31</td>\n",
              "      <td>1797.24</td>\n",
              "    </tr>\n",
              "    <tr>\n",
              "      <th>12349.0</th>\n",
              "      <td>18</td>\n",
              "      <td>73</td>\n",
              "      <td>1757.55</td>\n",
              "    </tr>\n",
              "    <tr>\n",
              "      <th>12350.0</th>\n",
              "      <td>310</td>\n",
              "      <td>17</td>\n",
              "      <td>334.40</td>\n",
              "    </tr>\n",
              "  </tbody>\n",
              "</table>\n",
              "</div>"
            ],
            "text/plain": [
              "            Recency  Frequency  Monetary\n",
              "CustomerID                              \n",
              "12346.0         325          1  77183.60\n",
              "12347.0           2        182   4310.00\n",
              "12348.0          75         31   1797.24\n",
              "12349.0          18         73   1757.55\n",
              "12350.0         310         17    334.40"
            ]
          },
          "metadata": {},
          "execution_count": 53
        }
      ]
    },
    {
      "cell_type": "markdown",
      "metadata": {
        "id": "RLIA99lV2CR0"
      },
      "source": [
        "## K-Means Clustering"
      ]
    },
    {
      "cell_type": "markdown",
      "metadata": {
        "id": "VK3EF1YA-I-X"
      },
      "source": [
        "Standarisasi "
      ]
    },
    {
      "cell_type": "code",
      "metadata": {
        "id": "CSd3JMQ9zlDR"
      },
      "source": [
        "rfm_segmentation = rfm.copy()"
      ],
      "execution_count": null,
      "outputs": []
    },
    {
      "cell_type": "code",
      "metadata": {
        "id": "Yzzcu6Wd-STc"
      },
      "source": [
        "# feature columns\n",
        "columns_name = ['Recency','Frequency','Monetary']\n",
        "\n",
        "# standardized df for training\n",
        "standardized_data = rfm_segmentation\n",
        "\n",
        "# standardization\n",
        "scaler = StandardScaler()\n",
        "scaler.fit(rfm_segmentation[columns_name])\n",
        "standardized_features = scaler.transform(rfm_segmentation[columns_name])\n",
        "standardized_data[columns_name] = standardized_features"
      ],
      "execution_count": null,
      "outputs": []
    },
    {
      "cell_type": "code",
      "metadata": {
        "colab": {
          "base_uri": "https://localhost:8080/",
          "height": 296
        },
        "id": "pjv6hWoj9gPb",
        "outputId": "19fe7115-eb3c-4210-b866-01cc6bcb3ec6"
      },
      "source": [
        "#Elbow Graph\n",
        "\n",
        "from sklearn.cluster import KMeans\n",
        "wcss=[]\n",
        "\n",
        "for i in range(1,11):\n",
        "    kmeans=KMeans(n_clusters=i, init='k-means++', random_state=42)\n",
        "    kmeans.fit(standardized_data[columns_name])\n",
        "    wcss.append(kmeans.inertia_)\n",
        "    \n",
        "plt.plot(range(1,11), wcss)\n",
        "plt.title('Elbow Method')\n",
        "plt.xlabel('n_cluster')\n",
        "plt.ylabel('wcss')\n",
        "\n",
        "plt.show()"
      ],
      "execution_count": null,
      "outputs": [
        {
          "output_type": "display_data",
          "data": {
            "image/png": "[encoded data removed]",
            "text/plain": [
              "<Figure size 432x288 with 1 Axes>"
            ]
          },
          "metadata": {
            "needs_background": "light"
          }
        }
      ]
    },
    {
      "cell_type": "markdown",
      "metadata": {
        "id": "1m1p5AsC95s5"
      },
      "source": [
        "in this case we take k=3"
      ]
    },
    {
      "cell_type": "code",
      "metadata": {
        "colab": {
          "base_uri": "https://localhost:8080/"
        },
        "id": "O__RrmtK87Wa",
        "outputId": "28a8903a-7ac1-4c13-b751-a5302408e7cc"
      },
      "source": [
        "kmeans1 = KMeans(n_clusters = 3, init='k-means++', random_state=42).fit(standardized_data[columns_name])\n",
        "labels1 = kmeans1.labels_\n",
        "labels1"
      ],
      "execution_count": null,
      "outputs": [
        {
          "output_type": "execute_result",
          "data": {
            "text/plain": [
              "array([0, 1, 1, ..., 1, 1, 1], dtype=int32)"
            ]
          },
          "metadata": {},
          "execution_count": 57
        }
      ]
    },
    {
      "cell_type": "code",
      "metadata": {
        "colab": {
          "base_uri": "https://localhost:8080/",
          "height": 235
        },
        "id": "63FGLwap9HVj",
        "outputId": "fd6ccd67-baea-440d-8efd-3bec4774549c"
      },
      "source": [
        "rfm['label_kmeans']=labels1\n",
        "rfm.head()"
      ],
      "execution_count": null,
      "outputs": [
        {
          "output_type": "execute_result",
          "data": {
            "text/html": [
              "<div>\n",
              "<style scoped>\n",
              "    .dataframe tbody tr th:only-of-type {\n",
              "        vertical-align: middle;\n",
              "    }\n",
              "\n",
              "    .dataframe tbody tr th {\n",
              "        vertical-align: top;\n",
              "    }\n",
              "\n",
              "    .dataframe thead th {\n",
              "        text-align: right;\n",
              "    }\n",
              "</style>\n",
              "<table border=\"1\" class=\"dataframe\">\n",
              "  <thead>\n",
              "    <tr style=\"text-align: right;\">\n",
              "      <th></th>\n",
              "      <th>Recency</th>\n",
              "      <th>Frequency</th>\n",
              "      <th>Monetary</th>\n",
              "      <th>label_kmeans</th>\n",
              "    </tr>\n",
              "    <tr>\n",
              "      <th>CustomerID</th>\n",
              "      <th></th>\n",
              "      <th></th>\n",
              "      <th></th>\n",
              "      <th></th>\n",
              "    </tr>\n",
              "  </thead>\n",
              "  <tbody>\n",
              "    <tr>\n",
              "      <th>12346.0</th>\n",
              "      <td>325</td>\n",
              "      <td>1</td>\n",
              "      <td>77183.60</td>\n",
              "      <td>0</td>\n",
              "    </tr>\n",
              "    <tr>\n",
              "      <th>12347.0</th>\n",
              "      <td>2</td>\n",
              "      <td>182</td>\n",
              "      <td>4310.00</td>\n",
              "      <td>1</td>\n",
              "    </tr>\n",
              "    <tr>\n",
              "      <th>12348.0</th>\n",
              "      <td>75</td>\n",
              "      <td>31</td>\n",
              "      <td>1797.24</td>\n",
              "      <td>1</td>\n",
              "    </tr>\n",
              "    <tr>\n",
              "      <th>12349.0</th>\n",
              "      <td>18</td>\n",
              "      <td>73</td>\n",
              "      <td>1757.55</td>\n",
              "      <td>1</td>\n",
              "    </tr>\n",
              "    <tr>\n",
              "      <th>12350.0</th>\n",
              "      <td>310</td>\n",
              "      <td>17</td>\n",
              "      <td>334.40</td>\n",
              "      <td>0</td>\n",
              "    </tr>\n",
              "  </tbody>\n",
              "</table>\n",
              "</div>"
            ],
            "text/plain": [
              "            Recency  Frequency  Monetary  label_kmeans\n",
              "CustomerID                                            \n",
              "12346.0         325          1  77183.60             0\n",
              "12347.0           2        182   4310.00             1\n",
              "12348.0          75         31   1797.24             1\n",
              "12349.0          18         73   1757.55             1\n",
              "12350.0         310         17    334.40             0"
            ]
          },
          "metadata": {},
          "execution_count": 58
        }
      ]
    },
    {
      "cell_type": "code",
      "metadata": {
        "colab": {
          "base_uri": "https://localhost:8080/",
          "height": 235
        },
        "id": "pOPiSMsbDJfM",
        "outputId": "7ac6d1f7-327e-4cfa-9ac2-6ecd9a739795"
      },
      "source": [
        "rfm.head()"
      ],
      "execution_count": null,
      "outputs": [
        {
          "output_type": "execute_result",
          "data": {
            "text/html": [
              "<div>\n",
              "<style scoped>\n",
              "    .dataframe tbody tr th:only-of-type {\n",
              "        vertical-align: middle;\n",
              "    }\n",
              "\n",
              "    .dataframe tbody tr th {\n",
              "        vertical-align: top;\n",
              "    }\n",
              "\n",
              "    .dataframe thead th {\n",
              "        text-align: right;\n",
              "    }\n",
              "</style>\n",
              "<table border=\"1\" class=\"dataframe\">\n",
              "  <thead>\n",
              "    <tr style=\"text-align: right;\">\n",
              "      <th></th>\n",
              "      <th>Recency</th>\n",
              "      <th>Frequency</th>\n",
              "      <th>Monetary</th>\n",
              "      <th>label_kmeans</th>\n",
              "    </tr>\n",
              "    <tr>\n",
              "      <th>CustomerID</th>\n",
              "      <th></th>\n",
              "      <th></th>\n",
              "      <th></th>\n",
              "      <th></th>\n",
              "    </tr>\n",
              "  </thead>\n",
              "  <tbody>\n",
              "    <tr>\n",
              "      <th>12346.0</th>\n",
              "      <td>325</td>\n",
              "      <td>1</td>\n",
              "      <td>77183.60</td>\n",
              "      <td>0</td>\n",
              "    </tr>\n",
              "    <tr>\n",
              "      <th>12347.0</th>\n",
              "      <td>2</td>\n",
              "      <td>182</td>\n",
              "      <td>4310.00</td>\n",
              "      <td>1</td>\n",
              "    </tr>\n",
              "    <tr>\n",
              "      <th>12348.0</th>\n",
              "      <td>75</td>\n",
              "      <td>31</td>\n",
              "      <td>1797.24</td>\n",
              "      <td>1</td>\n",
              "    </tr>\n",
              "    <tr>\n",
              "      <th>12349.0</th>\n",
              "      <td>18</td>\n",
              "      <td>73</td>\n",
              "      <td>1757.55</td>\n",
              "      <td>1</td>\n",
              "    </tr>\n",
              "    <tr>\n",
              "      <th>12350.0</th>\n",
              "      <td>310</td>\n",
              "      <td>17</td>\n",
              "      <td>334.40</td>\n",
              "      <td>0</td>\n",
              "    </tr>\n",
              "  </tbody>\n",
              "</table>\n",
              "</div>"
            ],
            "text/plain": [
              "            Recency  Frequency  Monetary  label_kmeans\n",
              "CustomerID                                            \n",
              "12346.0         325          1  77183.60             0\n",
              "12347.0           2        182   4310.00             1\n",
              "12348.0          75         31   1797.24             1\n",
              "12349.0          18         73   1757.55             1\n",
              "12350.0         310         17    334.40             0"
            ]
          },
          "metadata": {},
          "execution_count": 59
        }
      ]
    },
    {
      "cell_type": "code",
      "metadata": {
        "id": "pRuGtpx7O-22"
      },
      "source": [
        "rfm['category customer']=np.where(rfm['label_kmeans'] == 2,'Loyal Customer',(np.where(rfm['label_kmeans']== 1 ,'Good Customer','Churn Customer')))"
      ],
      "execution_count": null,
      "outputs": []
    },
    {
      "cell_type": "code",
      "metadata": {
        "colab": {
          "base_uri": "https://localhost:8080/",
          "height": 450
        },
        "id": "S52saQXUPbV5",
        "outputId": "7c929827-c3a4-4fdd-d19c-2e4c88573a05"
      },
      "source": [
        "rfm"
      ],
      "execution_count": null,
      "outputs": [
        {
          "output_type": "execute_result",
          "data": {
            "text/html": [
              "<div>\n",
              "<style scoped>\n",
              "    .dataframe tbody tr th:only-of-type {\n",
              "        vertical-align: middle;\n",
              "    }\n",
              "\n",
              "    .dataframe tbody tr th {\n",
              "        vertical-align: top;\n",
              "    }\n",
              "\n",
              "    .dataframe thead th {\n",
              "        text-align: right;\n",
              "    }\n",
              "</style>\n",
              "<table border=\"1\" class=\"dataframe\">\n",
              "  <thead>\n",
              "    <tr style=\"text-align: right;\">\n",
              "      <th></th>\n",
              "      <th>Recency</th>\n",
              "      <th>Frequency</th>\n",
              "      <th>Monetary</th>\n",
              "      <th>label_kmeans</th>\n",
              "      <th>category customer</th>\n",
              "    </tr>\n",
              "    <tr>\n",
              "      <th>CustomerID</th>\n",
              "      <th></th>\n",
              "      <th></th>\n",
              "      <th></th>\n",
              "      <th></th>\n",
              "      <th></th>\n",
              "    </tr>\n",
              "  </thead>\n",
              "  <tbody>\n",
              "    <tr>\n",
              "      <th>12346.0</th>\n",
              "      <td>325</td>\n",
              "      <td>1</td>\n",
              "      <td>77183.60</td>\n",
              "      <td>0</td>\n",
              "      <td>Churn Customer</td>\n",
              "    </tr>\n",
              "    <tr>\n",
              "      <th>12347.0</th>\n",
              "      <td>2</td>\n",
              "      <td>182</td>\n",
              "      <td>4310.00</td>\n",
              "      <td>1</td>\n",
              "      <td>Good Customer</td>\n",
              "    </tr>\n",
              "    <tr>\n",
              "      <th>12348.0</th>\n",
              "      <td>75</td>\n",
              "      <td>31</td>\n",
              "      <td>1797.24</td>\n",
              "      <td>1</td>\n",
              "      <td>Good Customer</td>\n",
              "    </tr>\n",
              "    <tr>\n",
              "      <th>12349.0</th>\n",
              "      <td>18</td>\n",
              "      <td>73</td>\n",
              "      <td>1757.55</td>\n",
              "      <td>1</td>\n",
              "      <td>Good Customer</td>\n",
              "    </tr>\n",
              "    <tr>\n",
              "      <th>12350.0</th>\n",
              "      <td>310</td>\n",
              "      <td>17</td>\n",
              "      <td>334.40</td>\n",
              "      <td>0</td>\n",
              "      <td>Churn Customer</td>\n",
              "    </tr>\n",
              "    <tr>\n",
              "      <th>...</th>\n",
              "      <td>...</td>\n",
              "      <td>...</td>\n",
              "      <td>...</td>\n",
              "      <td>...</td>\n",
              "      <td>...</td>\n",
              "    </tr>\n",
              "    <tr>\n",
              "      <th>18280.0</th>\n",
              "      <td>277</td>\n",
              "      <td>10</td>\n",
              "      <td>180.60</td>\n",
              "      <td>0</td>\n",
              "      <td>Churn Customer</td>\n",
              "    </tr>\n",
              "    <tr>\n",
              "      <th>18281.0</th>\n",
              "      <td>180</td>\n",
              "      <td>7</td>\n",
              "      <td>80.82</td>\n",
              "      <td>0</td>\n",
              "      <td>Churn Customer</td>\n",
              "    </tr>\n",
              "    <tr>\n",
              "      <th>18282.0</th>\n",
              "      <td>7</td>\n",
              "      <td>12</td>\n",
              "      <td>178.05</td>\n",
              "      <td>1</td>\n",
              "      <td>Good Customer</td>\n",
              "    </tr>\n",
              "    <tr>\n",
              "      <th>18283.0</th>\n",
              "      <td>3</td>\n",
              "      <td>756</td>\n",
              "      <td>2094.88</td>\n",
              "      <td>1</td>\n",
              "      <td>Good Customer</td>\n",
              "    </tr>\n",
              "    <tr>\n",
              "      <th>18287.0</th>\n",
              "      <td>42</td>\n",
              "      <td>70</td>\n",
              "      <td>1837.28</td>\n",
              "      <td>1</td>\n",
              "      <td>Good Customer</td>\n",
              "    </tr>\n",
              "  </tbody>\n",
              "</table>\n",
              "<p>4338 rows × 5 columns</p>\n",
              "</div>"
            ],
            "text/plain": [
              "            Recency  Frequency  Monetary  label_kmeans category customer\n",
              "CustomerID                                                              \n",
              "12346.0         325          1  77183.60             0    Churn Customer\n",
              "12347.0           2        182   4310.00             1     Good Customer\n",
              "12348.0          75         31   1797.24             1     Good Customer\n",
              "12349.0          18         73   1757.55             1     Good Customer\n",
              "12350.0         310         17    334.40             0    Churn Customer\n",
              "...             ...        ...       ...           ...               ...\n",
              "18280.0         277         10    180.60             0    Churn Customer\n",
              "18281.0         180          7     80.82             0    Churn Customer\n",
              "18282.0           7         12    178.05             1     Good Customer\n",
              "18283.0           3        756   2094.88             1     Good Customer\n",
              "18287.0          42         70   1837.28             1     Good Customer\n",
              "\n",
              "[4338 rows x 5 columns]"
            ]
          },
          "metadata": {},
          "execution_count": 61
        }
      ]
    },
    {
      "cell_type": "code",
      "metadata": {
        "colab": {
          "base_uri": "https://localhost:8080/"
        },
        "id": "mZnqYTXzEJpr",
        "outputId": "bd67d814-1435-4d00-d5b3-710bcf7c24c3"
      },
      "source": [
        "rfm['category customer'].value_counts()"
      ],
      "execution_count": null,
      "outputs": [
        {
          "output_type": "execute_result",
          "data": {
            "text/plain": [
              "Good Customer     3245\n",
              "Churn Customer    1080\n",
              "Loyal Customer      13\n",
              "Name: category customer, dtype: int64"
            ]
          },
          "metadata": {},
          "execution_count": 62
        }
      ]
    },
    {
      "cell_type": "code",
      "metadata": {
        "colab": {
          "base_uri": "https://localhost:8080/",
          "height": 173
        },
        "id": "srxIWJDGAfCT",
        "outputId": "fb0be004-1008-456e-aeda-83241ed4ec62"
      },
      "source": [
        "rfm.groupby('category customer').mean()"
      ],
      "execution_count": null,
      "outputs": [
        {
          "output_type": "execute_result",
          "data": {
            "text/html": [
              "<div>\n",
              "<style scoped>\n",
              "    .dataframe tbody tr th:only-of-type {\n",
              "        vertical-align: middle;\n",
              "    }\n",
              "\n",
              "    .dataframe tbody tr th {\n",
              "        vertical-align: top;\n",
              "    }\n",
              "\n",
              "    .dataframe thead th {\n",
              "        text-align: right;\n",
              "    }\n",
              "</style>\n",
              "<table border=\"1\" class=\"dataframe\">\n",
              "  <thead>\n",
              "    <tr style=\"text-align: right;\">\n",
              "      <th></th>\n",
              "      <th>Recency</th>\n",
              "      <th>Frequency</th>\n",
              "      <th>Monetary</th>\n",
              "      <th>label_kmeans</th>\n",
              "    </tr>\n",
              "    <tr>\n",
              "      <th>category customer</th>\n",
              "      <th></th>\n",
              "      <th></th>\n",
              "      <th></th>\n",
              "      <th></th>\n",
              "    </tr>\n",
              "  </thead>\n",
              "  <tbody>\n",
              "    <tr>\n",
              "      <th>Churn Customer</th>\n",
              "      <td>246.813889</td>\n",
              "      <td>27.750926</td>\n",
              "      <td>636.501112</td>\n",
              "      <td>0</td>\n",
              "    </tr>\n",
              "    <tr>\n",
              "      <th>Good Customer</th>\n",
              "      <td>40.906934</td>\n",
              "      <td>103.110632</td>\n",
              "      <td>2029.105908</td>\n",
              "      <td>1</td>\n",
              "    </tr>\n",
              "    <tr>\n",
              "      <th>Loyal Customer</th>\n",
              "      <td>4.000000</td>\n",
              "      <td>2566.000000</td>\n",
              "      <td>126118.310000</td>\n",
              "      <td>2</td>\n",
              "    </tr>\n",
              "  </tbody>\n",
              "</table>\n",
              "</div>"
            ],
            "text/plain": [
              "                      Recency    Frequency       Monetary  label_kmeans\n",
              "category customer                                                      \n",
              "Churn Customer     246.813889    27.750926     636.501112             0\n",
              "Good Customer       40.906934   103.110632    2029.105908             1\n",
              "Loyal Customer       4.000000  2566.000000  126118.310000             2"
            ]
          },
          "metadata": {},
          "execution_count": 63
        }
      ]
    },
    {
      "cell_type": "markdown",
      "metadata": {
        "id": "nKbPQhPOK-MV"
      },
      "source": [
        "2D Clustering"
      ]
    },
    {
      "cell_type": "code",
      "metadata": {
        "id": "ZqYb3uQ7CTx_",
        "colab": {
          "base_uri": "https://localhost:8080/",
          "height": 513
        },
        "outputId": "606a26cc-15c7-400e-c651-fb4441649dc9"
      },
      "source": [
        "#visualisasi 2d Recency vs Monetary\n",
        "import matplotlib.pyplot as plt\n",
        "\n",
        "plt.figure(figsize=(12,8))\n",
        "\n",
        "plt.scatter(rfm['Recency'][rfm.label_kmeans == 0], \n",
        "           rfm['Monetary'][rfm.label_kmeans == 0],\n",
        "           c='green', s=100, edgecolor='green',label='Churn Customer')\n",
        "plt.scatter(rfm['Recency'][rfm.label_kmeans == 1], \n",
        "           rfm['Monetary'][rfm.label_kmeans == 1],\n",
        "           c='blue', s=100, edgecolor='green', label='Good Customer')\n",
        "plt.scatter(rfm['Recency'][rfm.label_kmeans == 2], \n",
        "           rfm['Monetary'][rfm.label_kmeans == 2],\n",
        "           c='orange', s=100, edgecolor='k', label='Loyal Customer')\n",
        "\n",
        "\n",
        "plt.title('Clustering')\n",
        "plt.xlabel('Recency')\n",
        "plt.ylabel('Monetary')\n",
        "plt.legend()\n",
        "\n",
        "plt.show()\n",
        "           "
      ],
      "execution_count": null,
      "outputs": [
        {
          "output_type": "display_data",
          "data": {
            "image/png": "[encoded data removed]",
            "text/plain": [
              "<Figure size 864x576 with 1 Axes>"
            ]
          },
          "metadata": {
            "needs_background": "light"
          }
        }
      ]
    },
    {
      "cell_type": "code",
      "metadata": {
        "colab": {
          "base_uri": "https://localhost:8080/",
          "height": 513
        },
        "id": "eqHlnhO5La1z",
        "outputId": "a8d775c8-4e59-4793-9c42-863e29b0547e"
      },
      "source": [
        "#visualisasi 2d Recency Vs Frequency\n",
        "import matplotlib.pyplot as plt\n",
        "\n",
        "plt.figure(figsize=(12,8))\n",
        "\n",
        "plt.scatter(rfm['Recency'][rfm.label_kmeans == 0], \n",
        "           rfm['Frequency'][rfm.label_kmeans == 0],\n",
        "           c='green', s=100, edgecolor='green',label='Churn Customer')\n",
        "plt.scatter(rfm['Recency'][rfm.label_kmeans == 1], \n",
        "           rfm['Frequency'][rfm.label_kmeans == 1],\n",
        "           c='blue', s=100, edgecolor='green', label='Good Customer')\n",
        "plt.scatter(rfm['Recency'][rfm.label_kmeans == 2], \n",
        "           rfm['Frequency'][rfm.label_kmeans == 2],\n",
        "           c='orange', s=100, edgecolor='k', label='Loyal Customer')\n",
        "\n",
        "\n",
        "plt.title('Clustering')\n",
        "plt.xlabel('Recency')\n",
        "plt.ylabel('Frequency')\n",
        "plt.legend()\n",
        "\n",
        "plt.show()\n",
        "           "
      ],
      "execution_count": null,
      "outputs": [
        {
          "output_type": "display_data",
          "data": {
            "image/png": "[encoded data removed]",
            "text/plain": [
              "<Figure size 864x576 with 1 Axes>"
            ]
          },
          "metadata": {
            "needs_background": "light"
          }
        }
      ]
    },
    {
      "cell_type": "code",
      "metadata": {
        "colab": {
          "base_uri": "https://localhost:8080/",
          "height": 513
        },
        "id": "NpikYfWfLtVd",
        "outputId": "a9b12bd9-05eb-4859-ba03-2588f2dd47b4"
      },
      "source": [
        "#visualisasi 2d Monetary Vs Frequency\n",
        "import matplotlib.pyplot as plt\n",
        "\n",
        "plt.figure(figsize=(12,8))\n",
        "\n",
        "plt.scatter(rfm['Monetary'][rfm.label_kmeans == 0], \n",
        "           rfm['Frequency'][rfm.label_kmeans == 0],\n",
        "           c='green', s=100, edgecolor='green',label='Churn Customer')\n",
        "plt.scatter(rfm['Monetary'][rfm.label_kmeans == 1], \n",
        "           rfm['Frequency'][rfm.label_kmeans == 1],\n",
        "           c='blue', s=100, edgecolor='green', label='Good Customer')\n",
        "plt.scatter(rfm['Monetary'][rfm.label_kmeans == 2], \n",
        "           rfm['Frequency'][rfm.label_kmeans == 2],\n",
        "           c='orange', s=100, edgecolor='k', label='Loyal Customer')\n",
        "\n",
        "\n",
        "plt.title('Clustering')\n",
        "plt.xlabel('Monetary')\n",
        "plt.ylabel('Frequency')\n",
        "plt.legend()\n",
        "\n",
        "plt.show()\n",
        "           "
      ],
      "execution_count": null,
      "outputs": [
        {
          "output_type": "display_data",
          "data": {
            "image/png": "[encoded data removed]",
            "text/plain": [
              "<Figure size 864x576 with 1 Axes>"
            ]
          },
          "metadata": {
            "needs_background": "light"
          }
        }
      ]
    },
    {
      "cell_type": "markdown",
      "metadata": {
        "id": "xMmQu86JQI9j"
      },
      "source": [
        "Visualisasi 3d"
      ]
    },
    {
      "cell_type": "code",
      "metadata": {
        "colab": {
          "base_uri": "https://localhost:8080/",
          "height": 466
        },
        "id": "DSJat3TLAG4J",
        "outputId": "6e02ccf3-e73b-4983-f35c-0aaf7abd1f37"
      },
      "source": [
        "#visualisasi 3d\n",
        "import matplotlib.pyplot as plt\n",
        "\n",
        "fig = plt.figure(figsize=(12,8))\n",
        "ax = fig.add_subplot(111, projection='3d')\n",
        "\n",
        "ax.scatter(rfm['Recency'][rfm.label_kmeans == 0], \n",
        "           rfm['Frequency'][rfm.label_kmeans == 0],\n",
        "           rfm['Monetary'][rfm.label_kmeans == 0],\n",
        "           c='green', s=100, edgecolor='green',label='Churn Customer')\n",
        "ax.scatter(rfm['Recency'][rfm.label_kmeans == 1], \n",
        "           rfm['Frequency'][rfm.label_kmeans == 1],\n",
        "           rfm['Monetary'][rfm.label_kmeans == 1],\n",
        "           c='blue', s=100, edgecolor='green', label='Good Customer')\n",
        "ax.scatter(rfm['Recency'][rfm.label_kmeans == 2], \n",
        "           rfm['Frequency'][rfm.label_kmeans == 2],\n",
        "           rfm['Monetary'][rfm.label_kmeans == 2],\n",
        "           c='orange', s=100, edgecolor='k', label='Loyal Customer')\n",
        "\n",
        "\n",
        "plt.title('Clustering')\n",
        "plt.xlabel('Recency')\n",
        "plt.ylabel('Frequency')\n",
        "ax.set_zlabel('Monetary')\n",
        "plt.legend()\n",
        "\n",
        "plt.show()\n",
        "           "
      ],
      "execution_count": null,
      "outputs": [
        {
          "output_type": "display_data",
          "data": {
            "image/png": "[encoded data removed]",
            "text/plain": [
              "<Figure size 864x576 with 1 Axes>"
            ]
          },
          "metadata": {
            "needs_background": "light"
          }
        }
      ]
    },
    {
      "cell_type": "code",
      "metadata": {
        "colab": {
          "base_uri": "https://localhost:8080/"
        },
        "id": "zilxKIFYH91f",
        "outputId": "51380c52-091a-487c-a158-d8dcc69c5a7c"
      },
      "source": [
        "rfm['label_kmeans'].value_counts()"
      ],
      "execution_count": null,
      "outputs": [
        {
          "output_type": "execute_result",
          "data": {
            "text/plain": [
              "1    3245\n",
              "0    1080\n",
              "2      13\n",
              "Name: label_kmeans, dtype: int64"
            ]
          },
          "metadata": {},
          "execution_count": 68
        }
      ]
    },
    {
      "cell_type": "code",
      "metadata": {
        "colab": {
          "base_uri": "https://localhost:8080/",
          "height": 483
        },
        "id": "AyunVU8OL5SO",
        "outputId": "06ba0887-4ecf-4f50-bc26-872f45e10ea6"
      },
      "source": [
        "data_loyal=rfm.loc[(rfm['label_kmeans'] == 2)]\n",
        "data_loyal=data_loyal.sort_values(by=['Recency','Frequency','Monetary'], ascending=True)\n",
        "data_loyal"
      ],
      "execution_count": null,
      "outputs": [
        {
          "output_type": "execute_result",
          "data": {
            "text/html": [
              "<div>\n",
              "<style scoped>\n",
              "    .dataframe tbody tr th:only-of-type {\n",
              "        vertical-align: middle;\n",
              "    }\n",
              "\n",
              "    .dataframe tbody tr th {\n",
              "        vertical-align: top;\n",
              "    }\n",
              "\n",
              "    .dataframe thead th {\n",
              "        text-align: right;\n",
              "    }\n",
              "</style>\n",
              "<table border=\"1\" class=\"dataframe\">\n",
              "  <thead>\n",
              "    <tr style=\"text-align: right;\">\n",
              "      <th></th>\n",
              "      <th>Recency</th>\n",
              "      <th>Frequency</th>\n",
              "      <th>Monetary</th>\n",
              "      <th>label_kmeans</th>\n",
              "      <th>category customer</th>\n",
              "    </tr>\n",
              "    <tr>\n",
              "      <th>CustomerID</th>\n",
              "      <th></th>\n",
              "      <th></th>\n",
              "      <th></th>\n",
              "      <th></th>\n",
              "      <th></th>\n",
              "    </tr>\n",
              "  </thead>\n",
              "  <tbody>\n",
              "    <tr>\n",
              "      <th>16446.0</th>\n",
              "      <td>0</td>\n",
              "      <td>3</td>\n",
              "      <td>168472.50</td>\n",
              "      <td>2</td>\n",
              "      <td>Loyal Customer</td>\n",
              "    </tr>\n",
              "    <tr>\n",
              "      <th>18102.0</th>\n",
              "      <td>0</td>\n",
              "      <td>431</td>\n",
              "      <td>259657.30</td>\n",
              "      <td>2</td>\n",
              "      <td>Loyal Customer</td>\n",
              "    </tr>\n",
              "    <tr>\n",
              "      <th>15311.0</th>\n",
              "      <td>0</td>\n",
              "      <td>2379</td>\n",
              "      <td>60767.90</td>\n",
              "      <td>2</td>\n",
              "      <td>Loyal Customer</td>\n",
              "    </tr>\n",
              "    <tr>\n",
              "      <th>12748.0</th>\n",
              "      <td>0</td>\n",
              "      <td>4596</td>\n",
              "      <td>33719.73</td>\n",
              "      <td>2</td>\n",
              "      <td>Loyal Customer</td>\n",
              "    </tr>\n",
              "    <tr>\n",
              "      <th>14646.0</th>\n",
              "      <td>1</td>\n",
              "      <td>2080</td>\n",
              "      <td>280206.02</td>\n",
              "      <td>2</td>\n",
              "      <td>Loyal Customer</td>\n",
              "    </tr>\n",
              "    <tr>\n",
              "      <th>14911.0</th>\n",
              "      <td>1</td>\n",
              "      <td>5677</td>\n",
              "      <td>143825.06</td>\n",
              "      <td>2</td>\n",
              "      <td>Loyal Customer</td>\n",
              "    </tr>\n",
              "    <tr>\n",
              "      <th>17841.0</th>\n",
              "      <td>1</td>\n",
              "      <td>7847</td>\n",
              "      <td>40991.57</td>\n",
              "      <td>2</td>\n",
              "      <td>Loyal Customer</td>\n",
              "    </tr>\n",
              "    <tr>\n",
              "      <th>17511.0</th>\n",
              "      <td>2</td>\n",
              "      <td>963</td>\n",
              "      <td>91062.38</td>\n",
              "      <td>2</td>\n",
              "      <td>Loyal Customer</td>\n",
              "    </tr>\n",
              "    <tr>\n",
              "      <th>13089.0</th>\n",
              "      <td>2</td>\n",
              "      <td>1818</td>\n",
              "      <td>58825.83</td>\n",
              "      <td>2</td>\n",
              "      <td>Loyal Customer</td>\n",
              "    </tr>\n",
              "    <tr>\n",
              "      <th>14096.0</th>\n",
              "      <td>4</td>\n",
              "      <td>5111</td>\n",
              "      <td>65164.79</td>\n",
              "      <td>2</td>\n",
              "      <td>Loyal Customer</td>\n",
              "    </tr>\n",
              "    <tr>\n",
              "      <th>17450.0</th>\n",
              "      <td>8</td>\n",
              "      <td>337</td>\n",
              "      <td>194550.79</td>\n",
              "      <td>2</td>\n",
              "      <td>Loyal Customer</td>\n",
              "    </tr>\n",
              "    <tr>\n",
              "      <th>14156.0</th>\n",
              "      <td>9</td>\n",
              "      <td>1400</td>\n",
              "      <td>117379.63</td>\n",
              "      <td>2</td>\n",
              "      <td>Loyal Customer</td>\n",
              "    </tr>\n",
              "    <tr>\n",
              "      <th>12415.0</th>\n",
              "      <td>24</td>\n",
              "      <td>716</td>\n",
              "      <td>124914.53</td>\n",
              "      <td>2</td>\n",
              "      <td>Loyal Customer</td>\n",
              "    </tr>\n",
              "  </tbody>\n",
              "</table>\n",
              "</div>"
            ],
            "text/plain": [
              "            Recency  Frequency   Monetary  label_kmeans category customer\n",
              "CustomerID                                                               \n",
              "16446.0           0          3  168472.50             2    Loyal Customer\n",
              "18102.0           0        431  259657.30             2    Loyal Customer\n",
              "15311.0           0       2379   60767.90             2    Loyal Customer\n",
              "12748.0           0       4596   33719.73             2    Loyal Customer\n",
              "14646.0           1       2080  280206.02             2    Loyal Customer\n",
              "14911.0           1       5677  143825.06             2    Loyal Customer\n",
              "17841.0           1       7847   40991.57             2    Loyal Customer\n",
              "17511.0           2        963   91062.38             2    Loyal Customer\n",
              "13089.0           2       1818   58825.83             2    Loyal Customer\n",
              "14096.0           4       5111   65164.79             2    Loyal Customer\n",
              "17450.0           8        337  194550.79             2    Loyal Customer\n",
              "14156.0           9       1400  117379.63             2    Loyal Customer\n",
              "12415.0          24        716  124914.53             2    Loyal Customer"
            ]
          },
          "metadata": {},
          "execution_count": 69
        }
      ]
    },
    {
      "cell_type": "code",
      "metadata": {
        "id": "6FEUxd3LT4FZ"
      },
      "source": [
        "loyal_negara = pd.merge(data_loyal,data[['CustomerID','Country']],on='CustomerID', how='left')"
      ],
      "execution_count": null,
      "outputs": []
    },
    {
      "cell_type": "code",
      "metadata": {
        "colab": {
          "base_uri": "https://localhost:8080/",
          "height": 204
        },
        "id": "TvPNulaMUIdi",
        "outputId": "9e330a00-a1ef-4f67-b2d6-80f674ec2e55"
      },
      "source": [
        "loyal_negara.head()"
      ],
      "execution_count": null,
      "outputs": [
        {
          "output_type": "execute_result",
          "data": {
            "text/html": [
              "<div>\n",
              "<style scoped>\n",
              "    .dataframe tbody tr th:only-of-type {\n",
              "        vertical-align: middle;\n",
              "    }\n",
              "\n",
              "    .dataframe tbody tr th {\n",
              "        vertical-align: top;\n",
              "    }\n",
              "\n",
              "    .dataframe thead th {\n",
              "        text-align: right;\n",
              "    }\n",
              "</style>\n",
              "<table border=\"1\" class=\"dataframe\">\n",
              "  <thead>\n",
              "    <tr style=\"text-align: right;\">\n",
              "      <th></th>\n",
              "      <th>CustomerID</th>\n",
              "      <th>Recency</th>\n",
              "      <th>Frequency</th>\n",
              "      <th>Monetary</th>\n",
              "      <th>label_kmeans</th>\n",
              "      <th>category customer</th>\n",
              "      <th>Country</th>\n",
              "    </tr>\n",
              "  </thead>\n",
              "  <tbody>\n",
              "    <tr>\n",
              "      <th>0</th>\n",
              "      <td>16446.0</td>\n",
              "      <td>0</td>\n",
              "      <td>3</td>\n",
              "      <td>168472.5</td>\n",
              "      <td>2</td>\n",
              "      <td>Loyal Customer</td>\n",
              "      <td>United Kingdom</td>\n",
              "    </tr>\n",
              "    <tr>\n",
              "      <th>1</th>\n",
              "      <td>16446.0</td>\n",
              "      <td>0</td>\n",
              "      <td>3</td>\n",
              "      <td>168472.5</td>\n",
              "      <td>2</td>\n",
              "      <td>Loyal Customer</td>\n",
              "      <td>United Kingdom</td>\n",
              "    </tr>\n",
              "    <tr>\n",
              "      <th>2</th>\n",
              "      <td>16446.0</td>\n",
              "      <td>0</td>\n",
              "      <td>3</td>\n",
              "      <td>168472.5</td>\n",
              "      <td>2</td>\n",
              "      <td>Loyal Customer</td>\n",
              "      <td>United Kingdom</td>\n",
              "    </tr>\n",
              "    <tr>\n",
              "      <th>3</th>\n",
              "      <td>18102.0</td>\n",
              "      <td>0</td>\n",
              "      <td>431</td>\n",
              "      <td>259657.3</td>\n",
              "      <td>2</td>\n",
              "      <td>Loyal Customer</td>\n",
              "      <td>United Kingdom</td>\n",
              "    </tr>\n",
              "    <tr>\n",
              "      <th>4</th>\n",
              "      <td>18102.0</td>\n",
              "      <td>0</td>\n",
              "      <td>431</td>\n",
              "      <td>259657.3</td>\n",
              "      <td>2</td>\n",
              "      <td>Loyal Customer</td>\n",
              "      <td>United Kingdom</td>\n",
              "    </tr>\n",
              "  </tbody>\n",
              "</table>\n",
              "</div>"
            ],
            "text/plain": [
              "   CustomerID  Recency  ...  category customer         Country\n",
              "0     16446.0        0  ...     Loyal Customer  United Kingdom\n",
              "1     16446.0        0  ...     Loyal Customer  United Kingdom\n",
              "2     16446.0        0  ...     Loyal Customer  United Kingdom\n",
              "3     18102.0        0  ...     Loyal Customer  United Kingdom\n",
              "4     18102.0        0  ...     Loyal Customer  United Kingdom\n",
              "\n",
              "[5 rows x 7 columns]"
            ]
          },
          "metadata": {},
          "execution_count": 71
        }
      ]
    },
    {
      "cell_type": "code",
      "metadata": {
        "colab": {
          "base_uri": "https://localhost:8080/"
        },
        "id": "OW_z4meZTYXR",
        "outputId": "afbdbc37-16f5-4bbd-a2b5-1fb8536e5cc8"
      },
      "source": [
        "loyal_negara['Country'].value_counts()"
      ],
      "execution_count": null,
      "outputs": [
        {
          "output_type": "execute_result",
          "data": {
            "text/plain": [
              "United Kingdom    23485\n",
              "EIRE               7077\n",
              "Netherlands        2080\n",
              "Australia           716\n",
              "Name: Country, dtype: int64"
            ]
          },
          "metadata": {},
          "execution_count": 72
        }
      ]
    },
    {
      "cell_type": "code",
      "metadata": {
        "colab": {
          "base_uri": "https://localhost:8080/"
        },
        "id": "xlLcrvzxUQJn",
        "outputId": "e4e63b50-7941-4137-c57c-39ca8735820f"
      },
      "source": [
        "data['Country'].value_counts()"
      ],
      "execution_count": null,
      "outputs": [
        {
          "output_type": "execute_result",
          "data": {
            "text/plain": [
              "United Kingdom          354345\n",
              "Germany                   9042\n",
              "France                    8342\n",
              "EIRE                      7238\n",
              "Spain                     2485\n",
              "Netherlands               2363\n",
              "Belgium                   2031\n",
              "Switzerland               1842\n",
              "Portugal                  1462\n",
              "Australia                 1185\n",
              "Norway                    1072\n",
              "Italy                      758\n",
              "Channel Islands            748\n",
              "Finland                    685\n",
              "Cyprus                     614\n",
              "Sweden                     451\n",
              "Austria                    398\n",
              "Denmark                    380\n",
              "Poland                     330\n",
              "Japan                      321\n",
              "Israel                     248\n",
              "Unspecified                244\n",
              "Singapore                  222\n",
              "Iceland                    182\n",
              "USA                        179\n",
              "Canada                     151\n",
              "Greece                     145\n",
              "Malta                      112\n",
              "United Arab Emirates        68\n",
              "European Community          60\n",
              "RSA                         58\n",
              "Lebanon                     45\n",
              "Lithuania                   35\n",
              "Brazil                      32\n",
              "Czech Republic              25\n",
              "Bahrain                     17\n",
              "Saudi Arabia                 9\n",
              "Name: Country, dtype: int64"
            ]
          },
          "metadata": {},
          "execution_count": 73
        }
      ]
    },
    {
      "cell_type": "code",
      "metadata": {
        "id": "dTV01UTSUbiz"
      },
      "source": [
        "persentase =(((loyal_negara['Country'].value_counts()/data['Country'].value_counts())*100))\n",
        "presentase1 = persentase.dropna()"
      ],
      "execution_count": null,
      "outputs": []
    },
    {
      "cell_type": "code",
      "metadata": {
        "colab": {
          "base_uri": "https://localhost:8080/"
        },
        "id": "baeOUuKSUYXN",
        "outputId": "becaf3e9-433d-47f3-b825-8410a7b79370"
      },
      "source": [
        "presentase1.sort_values"
      ],
      "execution_count": null,
      "outputs": [
        {
          "output_type": "execute_result",
          "data": {
            "text/plain": [
              "<bound method Series.sort_values of Australia         60.421941\n",
              "EIRE              97.775629\n",
              "Netherlands       88.023699\n",
              "United Kingdom     6.627722\n",
              "Name: Country, dtype: float64>"
            ]
          },
          "metadata": {},
          "execution_count": 75
        }
      ]
    },
    {
      "cell_type": "code",
      "metadata": {
        "colab": {
          "base_uri": "https://localhost:8080/",
          "height": 295
        },
        "id": "UziZC6bwkJFs",
        "outputId": "764c4244-653a-4714-c4fe-f10b232b9848"
      },
      "source": [
        "presentase1.plot.barh(color='green')\n",
        "plt.xlabel('Percentage')\n",
        "plt.ylabel('Country')\n",
        "plt.title('Countries with loyal customers')\n",
        "\n",
        "plt.show()"
      ],
      "execution_count": null,
      "outputs": [
        {
          "output_type": "display_data",
          "data": {
            "image/png": "[encoded data removed]",
            "text/plain": [
              "<Figure size 432x288 with 1 Axes>"
            ]
          },
          "metadata": {
            "needs_background": "light"
          }
        }
      ]
    },
    {
      "cell_type": "code",
      "metadata": {
        "colab": {
          "base_uri": "https://localhost:8080/",
          "height": 282
        },
        "id": "3aspM7Mwi31c",
        "outputId": "6de5317b-a0f3-4e19-bc6b-1581a97c7d1c"
      },
      "source": [
        "presentase2 = pd.value_counts(loyal_negara['Country'].values, sort=True)\n",
        "presentase2.plot.barh()"
      ],
      "execution_count": null,
      "outputs": [
        {
          "output_type": "execute_result",
          "data": {
            "text/plain": [
              "<matplotlib.axes._subplots.AxesSubplot at 0x7fb045f6c0d0>"
            ]
          },
          "metadata": {},
          "execution_count": 77
        },
        {
          "output_type": "display_data",
          "data": {
            "image/png": "[encoded data removed]",
            "text/plain": [
              "<Figure size 432x288 with 1 Axes>"
            ]
          },
          "metadata": {
            "needs_background": "light"
          }
        }
      ]
    },
    {
      "cell_type": "code",
      "metadata": {
        "id": "xtenIvBOU08i"
      },
      "source": [
        "loyal_negara_ID = loyal_negara.groupby('CustomerID')"
      ],
      "execution_count": null,
      "outputs": []
    },
    {
      "cell_type": "code",
      "metadata": {
        "colab": {
          "base_uri": "https://localhost:8080/"
        },
        "id": "kdd-9HVOh_XD",
        "outputId": "03825938-f5f5-4023-c500-e2042d795323"
      },
      "source": [
        "loyal_negara_ID"
      ],
      "execution_count": null,
      "outputs": [
        {
          "output_type": "execute_result",
          "data": {
            "text/plain": [
              "<pandas.core.groupby.generic.DataFrameGroupBy object at 0x7fb045dfb4d0>"
            ]
          },
          "metadata": {},
          "execution_count": 79
        }
      ]
    },
    {
      "cell_type": "code",
      "metadata": {
        "colab": {
          "base_uri": "https://localhost:8080/",
          "height": 479
        },
        "id": "MCAZRUlIiBAx",
        "outputId": "d27a8ce9-cda6-4ae0-c3d0-b934223c3b71"
      },
      "source": [
        "country_df = pd.DataFrame(loyal_negara.groupby('Country')['CustomerID'].nunique())\n",
        "country_df.columns = ['Number of Customers by Country']\n",
        "country_df.sort_values('Number of Customers by Country', inplace=True, ascending=False)\n",
        "fig, ax = plt.subplots(figsize=(8,4),dpi=100)\n",
        "ax=sns.barplot(x=country_df.index, y=country_df['Number of Customers by Country'])\n",
        "ax.set_xticklabels(ax.get_xticklabels(), rotation=90, ha=\"right\")\n",
        "plt.show()"
      ],
      "execution_count": null,
      "outputs": [
        {
          "output_type": "display_data",
          "data": {
            "image/png": "[encoded data removed]",
            "text/plain": [
              "<Figure size 800x400 with 1 Axes>"
            ]
          },
          "metadata": {
            "needs_background": "light"
          }
        }
      ]
    },
    {
      "cell_type": "markdown",
      "metadata": {
        "id": "01XRduNUnIKq"
      },
      "source": [
        "Based on the 3 pictures above, it can be concluded that:\n",
        "1. Countries with loyal customers are: UK, EIRE, Australia and Netherlands.\n",
        "2. EIRE countries, Australia and the Netherlands have a very high percentage of loyal customers, this shows that although there are few customers from these countries, almost all of them are loyal customers.\n",
        "\n",
        "Therefore, the marketing team can carry out special promotions in countries that have loyal customers"
      ]
    },
    {
      "cell_type": "markdown",
      "metadata": {
        "id": "tlvJgOI3wc-m"
      },
      "source": [
        "Top Product in Loyal Customers"
      ]
    },
    {
      "cell_type": "code",
      "metadata": {
        "id": "2Nkt1Wcwicip"
      },
      "source": [
        "loyal_produk= pd.merge(data_loyal,data[['CustomerID','Country','Description','Quantity']],on='CustomerID', how='left')"
      ],
      "execution_count": null,
      "outputs": []
    },
    {
      "cell_type": "code",
      "metadata": {
        "colab": {
          "base_uri": "https://localhost:8080/",
          "height": 419
        },
        "id": "4hp6gJy6oivp",
        "outputId": "40d6edce-b268-4e4b-d305-d4085dfb989d"
      },
      "source": [
        "loyal_produk"
      ],
      "execution_count": null,
      "outputs": [
        {
          "output_type": "execute_result",
          "data": {
            "text/html": [
              "<div>\n",
              "<style scoped>\n",
              "    .dataframe tbody tr th:only-of-type {\n",
              "        vertical-align: middle;\n",
              "    }\n",
              "\n",
              "    .dataframe tbody tr th {\n",
              "        vertical-align: top;\n",
              "    }\n",
              "\n",
              "    .dataframe thead th {\n",
              "        text-align: right;\n",
              "    }\n",
              "</style>\n",
              "<table border=\"1\" class=\"dataframe\">\n",
              "  <thead>\n",
              "    <tr style=\"text-align: right;\">\n",
              "      <th></th>\n",
              "      <th>CustomerID</th>\n",
              "      <th>Recency</th>\n",
              "      <th>Frequency</th>\n",
              "      <th>Monetary</th>\n",
              "      <th>label_kmeans</th>\n",
              "      <th>category customer</th>\n",
              "      <th>Country</th>\n",
              "      <th>Description</th>\n",
              "      <th>Quantity</th>\n",
              "    </tr>\n",
              "  </thead>\n",
              "  <tbody>\n",
              "    <tr>\n",
              "      <th>0</th>\n",
              "      <td>16446.0</td>\n",
              "      <td>0</td>\n",
              "      <td>3</td>\n",
              "      <td>168472.50</td>\n",
              "      <td>2</td>\n",
              "      <td>Loyal Customer</td>\n",
              "      <td>United Kingdom</td>\n",
              "      <td>PANTRY SCRUBBING BRUSH</td>\n",
              "      <td>1</td>\n",
              "    </tr>\n",
              "    <tr>\n",
              "      <th>1</th>\n",
              "      <td>16446.0</td>\n",
              "      <td>0</td>\n",
              "      <td>3</td>\n",
              "      <td>168472.50</td>\n",
              "      <td>2</td>\n",
              "      <td>Loyal Customer</td>\n",
              "      <td>United Kingdom</td>\n",
              "      <td>PANTRY PASTRY BRUSH</td>\n",
              "      <td>1</td>\n",
              "    </tr>\n",
              "    <tr>\n",
              "      <th>2</th>\n",
              "      <td>16446.0</td>\n",
              "      <td>0</td>\n",
              "      <td>3</td>\n",
              "      <td>168472.50</td>\n",
              "      <td>2</td>\n",
              "      <td>Loyal Customer</td>\n",
              "      <td>United Kingdom</td>\n",
              "      <td>PAPER CRAFT , LITTLE BIRDIE</td>\n",
              "      <td>80995</td>\n",
              "    </tr>\n",
              "    <tr>\n",
              "      <th>3</th>\n",
              "      <td>18102.0</td>\n",
              "      <td>0</td>\n",
              "      <td>431</td>\n",
              "      <td>259657.30</td>\n",
              "      <td>2</td>\n",
              "      <td>Loyal Customer</td>\n",
              "      <td>United Kingdom</td>\n",
              "      <td>WOOD BLACK BOARD ANT WHITE FINISH</td>\n",
              "      <td>408</td>\n",
              "    </tr>\n",
              "    <tr>\n",
              "      <th>4</th>\n",
              "      <td>18102.0</td>\n",
              "      <td>0</td>\n",
              "      <td>431</td>\n",
              "      <td>259657.30</td>\n",
              "      <td>2</td>\n",
              "      <td>Loyal Customer</td>\n",
              "      <td>United Kingdom</td>\n",
              "      <td>UTILTY CABINET WITH HOOKS</td>\n",
              "      <td>30</td>\n",
              "    </tr>\n",
              "    <tr>\n",
              "      <th>...</th>\n",
              "      <td>...</td>\n",
              "      <td>...</td>\n",
              "      <td>...</td>\n",
              "      <td>...</td>\n",
              "      <td>...</td>\n",
              "      <td>...</td>\n",
              "      <td>...</td>\n",
              "      <td>...</td>\n",
              "      <td>...</td>\n",
              "    </tr>\n",
              "    <tr>\n",
              "      <th>33353</th>\n",
              "      <td>12415.0</td>\n",
              "      <td>24</td>\n",
              "      <td>716</td>\n",
              "      <td>124914.53</td>\n",
              "      <td>2</td>\n",
              "      <td>Loyal Customer</td>\n",
              "      <td>Australia</td>\n",
              "      <td>SMALL HEART MEASURING SPOONS</td>\n",
              "      <td>160</td>\n",
              "    </tr>\n",
              "    <tr>\n",
              "      <th>33354</th>\n",
              "      <td>12415.0</td>\n",
              "      <td>24</td>\n",
              "      <td>716</td>\n",
              "      <td>124914.53</td>\n",
              "      <td>2</td>\n",
              "      <td>Loyal Customer</td>\n",
              "      <td>Australia</td>\n",
              "      <td>LARGE HEART MEASURING SPOONS</td>\n",
              "      <td>80</td>\n",
              "    </tr>\n",
              "    <tr>\n",
              "      <th>33355</th>\n",
              "      <td>12415.0</td>\n",
              "      <td>24</td>\n",
              "      <td>716</td>\n",
              "      <td>124914.53</td>\n",
              "      <td>2</td>\n",
              "      <td>Loyal Customer</td>\n",
              "      <td>Australia</td>\n",
              "      <td>DOORMAT HEARTS</td>\n",
              "      <td>10</td>\n",
              "    </tr>\n",
              "    <tr>\n",
              "      <th>33356</th>\n",
              "      <td>12415.0</td>\n",
              "      <td>24</td>\n",
              "      <td>716</td>\n",
              "      <td>124914.53</td>\n",
              "      <td>2</td>\n",
              "      <td>Loyal Customer</td>\n",
              "      <td>Australia</td>\n",
              "      <td>72 SWEETHEART FAIRY CAKE CASES</td>\n",
              "      <td>120</td>\n",
              "    </tr>\n",
              "    <tr>\n",
              "      <th>33357</th>\n",
              "      <td>12415.0</td>\n",
              "      <td>24</td>\n",
              "      <td>716</td>\n",
              "      <td>124914.53</td>\n",
              "      <td>2</td>\n",
              "      <td>Loyal Customer</td>\n",
              "      <td>Australia</td>\n",
              "      <td>RABBIT NIGHT LIGHT</td>\n",
              "      <td>240</td>\n",
              "    </tr>\n",
              "  </tbody>\n",
              "</table>\n",
              "<p>33358 rows × 9 columns</p>\n",
              "</div>"
            ],
            "text/plain": [
              "       CustomerID  Recency  ...                        Description  Quantity\n",
              "0         16446.0        0  ...             PANTRY SCRUBBING BRUSH         1\n",
              "1         16446.0        0  ...                PANTRY PASTRY BRUSH         1\n",
              "2         16446.0        0  ...        PAPER CRAFT , LITTLE BIRDIE     80995\n",
              "3         18102.0        0  ...  WOOD BLACK BOARD ANT WHITE FINISH       408\n",
              "4         18102.0        0  ...          UTILTY CABINET WITH HOOKS        30\n",
              "...           ...      ...  ...                                ...       ...\n",
              "33353     12415.0       24  ...       SMALL HEART MEASURING SPOONS       160\n",
              "33354     12415.0       24  ...       LARGE HEART MEASURING SPOONS        80\n",
              "33355     12415.0       24  ...                     DOORMAT HEARTS        10\n",
              "33356     12415.0       24  ...     72 SWEETHEART FAIRY CAKE CASES       120\n",
              "33357     12415.0       24  ...                 RABBIT NIGHT LIGHT       240\n",
              "\n",
              "[33358 rows x 9 columns]"
            ]
          },
          "metadata": {},
          "execution_count": 82
        }
      ]
    },
    {
      "cell_type": "code",
      "metadata": {
        "colab": {
          "base_uri": "https://localhost:8080/",
          "height": 390
        },
        "id": "MFIxavglokPO",
        "outputId": "1aa050a7-6346-46f3-e79a-4e1b9aa51223"
      },
      "source": [
        "top_products_loyal =loyal_produk.groupby(\"Description\").agg({\"Quantity\": \"sum\"}).sort_values(\"Quantity\", ascending=False).head(10)\n",
        "top_products_loyal"
      ],
      "execution_count": null,
      "outputs": [
        {
          "output_type": "execute_result",
          "data": {
            "text/html": [
              "<div>\n",
              "<style scoped>\n",
              "    .dataframe tbody tr th:only-of-type {\n",
              "        vertical-align: middle;\n",
              "    }\n",
              "\n",
              "    .dataframe tbody tr th {\n",
              "        vertical-align: top;\n",
              "    }\n",
              "\n",
              "    .dataframe thead th {\n",
              "        text-align: right;\n",
              "    }\n",
              "</style>\n",
              "<table border=\"1\" class=\"dataframe\">\n",
              "  <thead>\n",
              "    <tr style=\"text-align: right;\">\n",
              "      <th></th>\n",
              "      <th>Quantity</th>\n",
              "    </tr>\n",
              "    <tr>\n",
              "      <th>Description</th>\n",
              "      <th></th>\n",
              "    </tr>\n",
              "  </thead>\n",
              "  <tbody>\n",
              "    <tr>\n",
              "      <th>PAPER CRAFT , LITTLE BIRDIE</th>\n",
              "      <td>80995</td>\n",
              "    </tr>\n",
              "    <tr>\n",
              "      <th>PACK OF 72 RETROSPOT CAKE CASES</th>\n",
              "      <td>6828</td>\n",
              "    </tr>\n",
              "    <tr>\n",
              "      <th>RABBIT NIGHT LIGHT</th>\n",
              "      <td>6805</td>\n",
              "    </tr>\n",
              "    <tr>\n",
              "      <th>WHITE HANGING HEART T-LIGHT HOLDER</th>\n",
              "      <td>6513</td>\n",
              "    </tr>\n",
              "    <tr>\n",
              "      <th>SPACEBOY LUNCH BOX</th>\n",
              "      <td>6218</td>\n",
              "    </tr>\n",
              "    <tr>\n",
              "      <th>HEART OF WICKER SMALL</th>\n",
              "      <td>6210</td>\n",
              "    </tr>\n",
              "    <tr>\n",
              "      <th>CREAM HEART CARD HOLDER</th>\n",
              "      <td>6008</td>\n",
              "    </tr>\n",
              "    <tr>\n",
              "      <th>DOLLY GIRL LUNCH BOX</th>\n",
              "      <td>5915</td>\n",
              "    </tr>\n",
              "    <tr>\n",
              "      <th>JUMBO BAG RED RETROSPOT</th>\n",
              "      <td>5479</td>\n",
              "    </tr>\n",
              "    <tr>\n",
              "      <th>MINI PAINT SET VINTAGE</th>\n",
              "      <td>5336</td>\n",
              "    </tr>\n",
              "  </tbody>\n",
              "</table>\n",
              "</div>"
            ],
            "text/plain": [
              "                                    Quantity\n",
              "Description                                 \n",
              "PAPER CRAFT , LITTLE BIRDIE            80995\n",
              "PACK OF 72 RETROSPOT CAKE CASES         6828\n",
              "RABBIT NIGHT LIGHT                      6805\n",
              "WHITE HANGING HEART T-LIGHT HOLDER      6513\n",
              "SPACEBOY LUNCH BOX                      6218\n",
              "HEART OF WICKER SMALL                   6210\n",
              "CREAM HEART CARD HOLDER                 6008\n",
              "DOLLY GIRL LUNCH BOX                    5915\n",
              "JUMBO BAG RED RETROSPOT                 5479\n",
              "MINI PAINT SET VINTAGE                  5336"
            ]
          },
          "metadata": {},
          "execution_count": 83
        }
      ]
    },
    {
      "cell_type": "code",
      "metadata": {
        "colab": {
          "base_uri": "https://localhost:8080/",
          "height": 598
        },
        "id": "aNS8Zzbao0bd",
        "outputId": "469b0122-d8c6-4ccd-ecf9-56f2bf05c2ff"
      },
      "source": [
        "product_df = pd.DataFrame(top_products_loyal.groupby('Description')['Quantity'].sum())\n",
        "product_df.columns = ['Number of Product']\n",
        "product_df.sort_values('Number of Product', inplace=True, ascending=False)\n",
        "fig, ax = plt.subplots(figsize=(8,4),dpi=100)\n",
        "ax=sns.barplot(x=product_df.index, y=product_df['Number of Product'])\n",
        "ax.set_xticklabels(ax.get_xticklabels(), rotation=90, ha=\"right\")\n",
        "plt.title('Top 10 best selling products for loyal customers')\n",
        "plt.show()"
      ],
      "execution_count": null,
      "outputs": [
        {
          "output_type": "display_data",
          "data": {
            "image/png": "[encoded data removed]",
            "text/plain": [
              "<Figure size 800x400 with 1 Axes>"
            ]
          },
          "metadata": {
            "needs_background": "light"
          }
        }
      ]
    },
    {
      "cell_type": "markdown",
      "metadata": {
        "id": "njHTSFFdppdG"
      },
      "source": [
        "Based on the picture, it can be seen that these are 10 products purchased by loyal customers. The marketing team can carry out certain promotions on these 10 products to be able to continue to maintain and increase loyal customer purchases."
      ]
    },
    {
      "cell_type": "code",
      "metadata": {
        "colab": {
          "base_uri": "https://localhost:8080/",
          "height": 80
        },
        "id": "vxTQaXRD1Dl2",
        "outputId": "610780dc-6a2d-4647-c9e4-c680ac02b8de"
      },
      "source": [
        "data[data['Description']== 'PAPER CRAFT , LITTLE BIRDIE']"
      ],
      "execution_count": null,
      "outputs": [
        {
          "output_type": "execute_result",
          "data": {
            "text/html": [
              "<div>\n",
              "<style scoped>\n",
              "    .dataframe tbody tr th:only-of-type {\n",
              "        vertical-align: middle;\n",
              "    }\n",
              "\n",
              "    .dataframe tbody tr th {\n",
              "        vertical-align: top;\n",
              "    }\n",
              "\n",
              "    .dataframe thead th {\n",
              "        text-align: right;\n",
              "    }\n",
              "</style>\n",
              "<table border=\"1\" class=\"dataframe\">\n",
              "  <thead>\n",
              "    <tr style=\"text-align: right;\">\n",
              "      <th></th>\n",
              "      <th>InvoiceNo</th>\n",
              "      <th>StockCode</th>\n",
              "      <th>Description</th>\n",
              "      <th>Quantity</th>\n",
              "      <th>InvoiceDate</th>\n",
              "      <th>UnitPrice</th>\n",
              "      <th>CustomerID</th>\n",
              "      <th>Country</th>\n",
              "      <th>Total_Cost</th>\n",
              "      <th>Date</th>\n",
              "    </tr>\n",
              "  </thead>\n",
              "  <tbody>\n",
              "    <tr>\n",
              "      <th>540421</th>\n",
              "      <td>581483</td>\n",
              "      <td>23843</td>\n",
              "      <td>PAPER CRAFT , LITTLE BIRDIE</td>\n",
              "      <td>80995</td>\n",
              "      <td>2011-12-09 09:15:00</td>\n",
              "      <td>2.08</td>\n",
              "      <td>16446.0</td>\n",
              "      <td>United Kingdom</td>\n",
              "      <td>168469.6</td>\n",
              "      <td>2011-12</td>\n",
              "    </tr>\n",
              "  </tbody>\n",
              "</table>\n",
              "</div>"
            ],
            "text/plain": [
              "       InvoiceNo StockCode  ... Total_Cost     Date\n",
              "540421    581483     23843  ...   168469.6  2011-12\n",
              "\n",
              "[1 rows x 10 columns]"
            ]
          },
          "metadata": {},
          "execution_count": 89
        }
      ]
    },
    {
      "cell_type": "code",
      "metadata": {
        "id": "XM54bWEn1JP5"
      },
      "source": [
        ""
      ],
      "execution_count": null,
      "outputs": []
    }
  ]
}